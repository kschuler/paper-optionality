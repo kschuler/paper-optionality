{
  "nbformat": 4,
  "nbformat_minor": 0,
  "metadata": {
    "colab": {
      "provenance": []
    },
    "kernelspec": {
      "name": "ir",
      "display_name": "R"
    },
    "language_info": {
      "name": "R"
    }
  },
  "cells": [
    {
      "cell_type": "markdown",
      "source": [
        "# Analysis for XXX\n",
        "\n",
        "*anonymous for peer review*\n",
        "\n",
        "\n",
        "## Setting up\n",
        "\n",
        "First we will load the libraries we'll need and setup a few boilerplate things to make figures pretty, etc. I'll also print the session info so people can see what the analysis environment was like. Note that I did this anyalysis in Google Colab via an R Kernel."
      ],
      "metadata": {
        "id": "s2rz0pE7yHhJ"
      }
    },
    {
      "cell_type": "code",
      "source": [
        "# install packages\n",
        "install.packages(c('lmerTest', 'infotheo'))"
      ],
      "metadata": {
        "colab": {
          "base_uri": "https://localhost:8080/"
        },
        "id": "gIExPVyjy7Z-",
        "outputId": "c0bdcf46-8525-4406-8df3-9dc6c56af034"
      },
      "execution_count": null,
      "outputs": [
        {
          "output_type": "stream",
          "name": "stderr",
          "text": [
            "Installing packages into ‘/usr/local/lib/R/site-library’\n",
            "(as ‘lib’ is unspecified)\n",
            "\n",
            "also installing the dependencies ‘minqa’, ‘nloptr’, ‘RcppEigen’, ‘lme4’, ‘numDeriv’\n",
            "\n",
            "\n",
            "Warning message in install.packages(c(\"lmerTest\", \"infotheo\")):\n",
            "“installation of package ‘nloptr’ had non-zero exit status”\n",
            "Warning message in install.packages(c(\"lmerTest\", \"infotheo\")):\n",
            "“installation of package ‘lme4’ had non-zero exit status”\n",
            "Warning message in install.packages(c(\"lmerTest\", \"infotheo\")):\n",
            "“installation of package ‘lmerTest’ had non-zero exit status”\n"
          ]
        }
      ]
    },
    {
      "cell_type": "code",
      "execution_count": null,
      "metadata": {
        "colab": {
          "base_uri": "https://localhost:8080/"
        },
        "id": "Pm6sE4D0waL8",
        "outputId": "29fdc1db-f619-499f-f762-2e3160c4f279"
      },
      "outputs": [
        {
          "output_type": "stream",
          "name": "stderr",
          "text": [
            "Warning message in system(\"timedatectl\", intern = TRUE):\n",
            "“running command 'timedatectl' had status 1”\n",
            "Loading required package: lme4\n",
            "\n",
            "Loading required package: Matrix\n",
            "\n",
            "\n",
            "Attaching package: ‘Matrix’\n",
            "\n",
            "\n",
            "The following objects are masked from ‘package:tidyr’:\n",
            "\n",
            "    expand, pack, unpack\n",
            "\n",
            "\n",
            "\n",
            "Attaching package: ‘lmerTest’\n",
            "\n",
            "\n",
            "The following object is masked from ‘package:lme4’:\n",
            "\n",
            "    lmer\n",
            "\n",
            "\n",
            "The following object is masked from ‘package:stats’:\n",
            "\n",
            "    step\n",
            "\n",
            "\n"
          ]
        }
      ],
      "source": [
        "# load the tidyverse, but be quiet about it\n",
        "options(tidyverse.quiet = TRUE)\n",
        "library(tidyverse)\n",
        "\n",
        "# load other libraries we'll need\n",
        "library(lmerTest)     # for mixed effects models\n",
        "library(infotheo)     # for entropy analysis\n",
        "\n",
        "# turn off annoying \"summarise()\" warning in new dplyr\n",
        "options(dplyr.summarise.inform = FALSE)"
      ]
    },
    {
      "cell_type": "code",
      "source": [
        "# print session info so we can see computing evironment\n",
        "sessionInfo()"
      ],
      "metadata": {
        "colab": {
          "base_uri": "https://localhost:8080/",
          "height": 496
        },
        "id": "j9WkgDuFy5c9",
        "outputId": "0bf04541-4fd9-4d31-ba40-936a3ef6ba1a"
      },
      "execution_count": null,
      "outputs": [
        {
          "output_type": "display_data",
          "data": {
            "text/plain": [
              "R version 4.1.2 (2021-11-01)\n",
              "Platform: x86_64-pc-linux-gnu (64-bit)\n",
              "Running under: Ubuntu 18.04.5 LTS\n",
              "\n",
              "Matrix products: default\n",
              "BLAS:   /usr/lib/x86_64-linux-gnu/openblas/libblas.so.3\n",
              "LAPACK: /usr/lib/x86_64-linux-gnu/libopenblasp-r0.2.20.so\n",
              "\n",
              "locale:\n",
              " [1] LC_CTYPE=en_US.UTF-8       LC_NUMERIC=C              \n",
              " [3] LC_TIME=en_US.UTF-8        LC_COLLATE=en_US.UTF-8    \n",
              " [5] LC_MONETARY=en_US.UTF-8    LC_MESSAGES=en_US.UTF-8   \n",
              " [7] LC_PAPER=en_US.UTF-8       LC_NAME=C                 \n",
              " [9] LC_ADDRESS=C               LC_TELEPHONE=C            \n",
              "[11] LC_MEASUREMENT=en_US.UTF-8 LC_IDENTIFICATION=C       \n",
              "\n",
              "attached base packages:\n",
              "[1] stats     graphics  grDevices utils     datasets  methods   base     \n",
              "\n",
              "loaded via a namespace (and not attached):\n",
              " [1] fansi_0.5.0     digest_0.6.29   utf8_1.2.2      crayon_1.4.2   \n",
              " [5] IRdisplay_1.1   repr_1.1.4      lifecycle_1.0.1 jsonlite_1.7.2 \n",
              " [9] evaluate_0.14   pillar_1.6.4    rlang_0.4.12    uuid_1.0-3     \n",
              "[13] vctrs_0.3.8     ellipsis_0.3.2  IRkernel_1.3    tools_4.1.2    \n",
              "[17] fastmap_1.1.0   compiler_4.1.2  base64enc_0.1-3 pbdZMQ_0.3-6   \n",
              "[21] htmltools_0.5.2"
            ]
          },
          "metadata": {}
        }
      ]
    },
    {
      "cell_type": "code",
      "source": [
        "# set the theme and base size of figures\n",
        "theme_set(theme_classic(base_size = 20))\n",
        "\n",
        "# build simple coding matricies for mixed effects models\n",
        "# for two levels\n",
        "c2 <- contr.treatment(2)\n",
        "coding2 <- matrix(rep(1/2, 2), ncol = 1)\n",
        "simple2 <- c2-coding2\n",
        "\n",
        "# for three levels\n",
        "c3 <- contr.treatment(3)\n",
        "coding3 <- matrix(rep(1/3, 6), ncol = 2)\n",
        "simple3 <- c3-coding3"
      ],
      "metadata": {
        "id": "FR2fmLwhzYWT"
      },
      "execution_count": null,
      "outputs": []
    },
    {
      "cell_type": "code",
      "source": [
        "# load the data\n",
        "data <- read.csv('data_anonymized.csv')"
      ],
      "metadata": {
        "id": "igEw-57v0D5d"
      },
      "execution_count": null,
      "outputs": []
    },
    {
      "cell_type": "markdown",
      "source": [
        "## Experiment 1"
      ],
      "metadata": {
        "id": "89ibBjXczSrk"
      }
    },
    {
      "cell_type": "markdown",
      "source": [
        "### Participants\n",
        "\n",
        "Get all of the participants in experiment 1"
      ],
      "metadata": {
        "id": "z-Wp8N8s0kT8"
      }
    },
    {
      "cell_type": "code",
      "source": [
        "participants <- data %>%\n",
        "    filter(experiment %in% c(\"Experiment 1\", \"Experiment 2\")) %>%\n",
        "    mutate(condition = factor(condition, levels = c(\"Optional\", \"Alternating\", \"Alternating (sas)\", \"Optional Frequent\", \"Optional Rare\")))%>%\n",
        "    group_by(experiment, condition) %>%\n",
        "    summarise(n = n_distinct(random_id))\n",
        "\n",
        "participants %>%\n",
        "    filter(experiment == \"Experiment 1\")"
      ],
      "metadata": {
        "colab": {
          "base_uri": "https://localhost:8080/",
          "height": 192
        },
        "id": "inhcHnl-0dou",
        "outputId": "c5bea059-efeb-4d82-dac0-f0f12e8092f5"
      },
      "execution_count": null,
      "outputs": [
        {
          "output_type": "display_data",
          "data": {
            "text/plain": [
              "  experiment   condition         n \n",
              "1 Experiment 1 Optional          20\n",
              "2 Experiment 1 Alternating       21\n",
              "3 Experiment 1 Alternating (sas) 20"
            ],
            "text/latex": "A grouped\\_df: 3 × 3\n\\begin{tabular}{lll}\n experiment & condition & n\\\\\n <chr> & <fct> & <int>\\\\\n\\hline\n\t Experiment 1 & Optional          & 20\\\\\n\t Experiment 1 & Alternating       & 21\\\\\n\t Experiment 1 & Alternating (sas) & 20\\\\\n\\end{tabular}\n",
            "text/markdown": "\nA grouped_df: 3 × 3\n\n| experiment &lt;chr&gt; | condition &lt;fct&gt; | n &lt;int&gt; |\n|---|---|---|\n| Experiment 1 | Optional          | 20 |\n| Experiment 1 | Alternating       | 21 |\n| Experiment 1 | Alternating (sas) | 20 |\n\n",
            "text/html": [
              "<table class=\"dataframe\">\n",
              "<caption>A grouped_df: 3 × 3</caption>\n",
              "<thead>\n",
              "\t<tr><th scope=col>experiment</th><th scope=col>condition</th><th scope=col>n</th></tr>\n",
              "\t<tr><th scope=col>&lt;chr&gt;</th><th scope=col>&lt;fct&gt;</th><th scope=col>&lt;int&gt;</th></tr>\n",
              "</thead>\n",
              "<tbody>\n",
              "\t<tr><td>Experiment 1</td><td>Optional         </td><td>20</td></tr>\n",
              "\t<tr><td>Experiment 1</td><td>Alternating      </td><td>21</td></tr>\n",
              "\t<tr><td>Experiment 1</td><td>Alternating (sas)</td><td>20</td></tr>\n",
              "</tbody>\n",
              "</table>\n"
            ]
          },
          "metadata": {}
        }
      ]
    },
    {
      "cell_type": "code",
      "source": [
        "# get all proportion correct during exposure phase\n",
        "attention_check <- data %>%\n",
        "    filter(experiment %in% c(\"Experiment 1\", \"Experiment 2\")) %>%\n",
        "    filter(exp_phase == \"exposure\") %>%\n",
        "    mutate(correct = ifelse(marker == whichPressed, 1, 0),\n",
        "           condition = factor(condition, levels = c(\"Optional\", \"Alternating\", \"Alternating (sas)\", \"Optional Frequent\", \"Optional Rare\")))%>%\n",
        "    group_by(experiment, condition, random_id) %>%\n",
        "    summarise(n = n(), ncorr = sum(correct), proportion = ncorr/n*100)\n",
        "\n",
        "# summarise these results in a table\n",
        "attention_check %>%\n",
        "    filter(experiment == \"Experiment 1\") %>%\n",
        "    group_by(condition) %>%\n",
        "    summarise(n = n(), mean = mean(proportion), sd = sd(proportion), min = min(proportion), max = max(proportion))"
      ],
      "metadata": {
        "colab": {
          "base_uri": "https://localhost:8080/",
          "height": 192
        },
        "id": "xrgFyWMB0tdW",
        "outputId": "39bb9aca-03a6-463b-fd68-bc6d3d9305c9"
      },
      "execution_count": null,
      "outputs": [
        {
          "output_type": "display_data",
          "data": {
            "text/plain": [
              "  condition         n  mean     sd        min      max\n",
              "1 Optional          20 99.37500 0.7089136 98.61111 100\n",
              "2 Alternating       21 99.40476 0.7042952 98.61111 100\n",
              "3 Alternating (sas) 20 99.16667 2.0352642 91.66667 100"
            ],
            "text/latex": "A tibble: 3 × 6\n\\begin{tabular}{llllll}\n condition & n & mean & sd & min & max\\\\\n <fct> & <int> & <dbl> & <dbl> & <dbl> & <dbl>\\\\\n\\hline\n\t Optional          & 20 & 99.37500 & 0.7089136 & 98.61111 & 100\\\\\n\t Alternating       & 21 & 99.40476 & 0.7042952 & 98.61111 & 100\\\\\n\t Alternating (sas) & 20 & 99.16667 & 2.0352642 & 91.66667 & 100\\\\\n\\end{tabular}\n",
            "text/markdown": "\nA tibble: 3 × 6\n\n| condition &lt;fct&gt; | n &lt;int&gt; | mean &lt;dbl&gt; | sd &lt;dbl&gt; | min &lt;dbl&gt; | max &lt;dbl&gt; |\n|---|---|---|---|---|---|\n| Optional          | 20 | 99.37500 | 0.7089136 | 98.61111 | 100 |\n| Alternating       | 21 | 99.40476 | 0.7042952 | 98.61111 | 100 |\n| Alternating (sas) | 20 | 99.16667 | 2.0352642 | 91.66667 | 100 |\n\n",
            "text/html": [
              "<table class=\"dataframe\">\n",
              "<caption>A tibble: 3 × 6</caption>\n",
              "<thead>\n",
              "\t<tr><th scope=col>condition</th><th scope=col>n</th><th scope=col>mean</th><th scope=col>sd</th><th scope=col>min</th><th scope=col>max</th></tr>\n",
              "\t<tr><th scope=col>&lt;fct&gt;</th><th scope=col>&lt;int&gt;</th><th scope=col>&lt;dbl&gt;</th><th scope=col>&lt;dbl&gt;</th><th scope=col>&lt;dbl&gt;</th><th scope=col>&lt;dbl&gt;</th></tr>\n",
              "</thead>\n",
              "<tbody>\n",
              "\t<tr><td>Optional         </td><td>20</td><td>99.37500</td><td>0.7089136</td><td>98.61111</td><td>100</td></tr>\n",
              "\t<tr><td>Alternating      </td><td>21</td><td>99.40476</td><td>0.7042952</td><td>98.61111</td><td>100</td></tr>\n",
              "\t<tr><td>Alternating (sas)</td><td>20</td><td>99.16667</td><td>2.0352642</td><td>91.66667</td><td>100</td></tr>\n",
              "</tbody>\n",
              "</table>\n"
            ]
          },
          "metadata": {}
        }
      ]
    },
    {
      "cell_type": "markdown",
      "source": [
        "### Results\n",
        "\n",
        "Next we'll analyze the production test. We want to know whether participants regularize more in some conditions than others. We've hypothesized that participants in the alternating conditions should regularize more than those in the optional condition.\n"
      ],
      "metadata": {
        "id": "c9Pjgke04PHc"
      }
    },
    {
      "cell_type": "markdown",
      "source": [
        "#### Use of dominant form\n",
        "\n",
        "One way to test this is to simply ask whether participants in the alternating conditions use the dominant form than those in the optional one."
      ],
      "metadata": {
        "id": "Ej6dJHvk4bMS"
      }
    },
    {
      "cell_type": "code",
      "source": [
        "#set figure size\n",
        "options(repr.plot.width=7, repr.plot.height=6)\n",
        "\n",
        "# first let's get use of the dominant form by participant in Experiment 1\n",
        "use_dominant <- data %>%\n",
        "    filter(experiment == \"Experiment 1\") %>%\n",
        "    filter(exp_phase == \"production\") %>%\n",
        "    mutate(condition = factor(condition, levels = c(\"Optional\", \"Alternating\", \"Alternating (sas)\")))%>%\n",
        "    group_by(experiment, condition, random_id) %>%\n",
        "    summarise(n = n(), nKa = sum(isKa), proportion = nKa/n*100)\n",
        "\n",
        "# and then generate a figure from that for the paper\n",
        "use_dominant %>%\n",
        "    ggplot(aes(condition, proportion, fill = condition)) +\n",
        "    facet_grid(.~experiment)+\n",
        "    geom_dotplot(binaxis = \"y\", stackdir = \"center\", alpha = 0.25, binwidth = 3) +\n",
        "    stat_summary(fun.data = \"mean_se\", geom = \"errorbar\", width = 0.25, size = 1) +\n",
        "    geom_hline(yintercept = 67, linetype = \"dashed\") +\n",
        "    theme(legend.position = \"None\") +\n",
        "    labs(x = \"\", y = \"proportion marked -ka\") +\n",
        "    ylim(c(0,100)) +\n",
        "    scale_fill_grey()"
      ],
      "metadata": {
        "colab": {
          "base_uri": "https://localhost:8080/",
          "height": 377
        },
        "id": "idUcoGaK4wLq",
        "outputId": "e7e98c26-c915-4259-ceaa-e589085dc4c3"
      },
      "execution_count": null,
      "outputs": [
        {
          "output_type": "display_data",
          "data": {
            "image/png": "[encoded data removed]",
            "text/plain": [
              "plot without title"
            ]
          },
          "metadata": {
            "image/png": {
              "width": 420,
              "height": 360
            }
          }
        }
      ]
    },
    {
      "cell_type": "markdown",
      "source": [
        "What we can see from the figure is the exact oposite of what we predicted: participants in the optional language regularize more. Let's get some stats to support this."
      ],
      "metadata": {
        "id": "2M79gTxW7UB7"
      }
    },
    {
      "cell_type": "code",
      "source": [
        "# get the data we'll use for the model\n",
        "model_data_exp1 <- data %>%\n",
        "    filter(experiment == \"Experiment 1\", exp_phase == \"production\") %>%\n",
        "    mutate(condition = factor(condition, levels = c(\"Optional\", \"Alternating\", \"Alternating (sas)\")))\n",
        "\n",
        "# and apply simple coding to our fixed effect of condition\n",
        "contrasts(model_data_exp1$condition) <- simple3"
      ],
      "metadata": {
        "id": "HOhmg9-t7hCn"
      },
      "execution_count": null,
      "outputs": []
    },
    {
      "cell_type": "markdown",
      "source": [
        "Next let's determine the best fitting random effects structure. Here we'll only add complexity to the model when doing so contributes to fit."
      ],
      "metadata": {
        "id": "_YB-r2zw7nGJ"
      }
    },
    {
      "cell_type": "code",
      "source": [
        "# build the null model, with random intercepts and slopes for participants\n",
        "exp1.null <- glmer(\n",
        "              isKa ~ 1 + (1|random_id),\n",
        "              family = \"binomial\",\n",
        "              data = filter(model_data_exp1),\n",
        "              control=glmerControl(optimizer=\"bobyqa\"))\n",
        "\n",
        "# add a random intercepts for objects\n",
        "exp1.obj <- update(exp1.null, .~ 1 + (1 | random_id) + (1 | meaning))\n",
        "\n",
        "# random intercepts and slopes for objects\n",
        "exp1.objcond <- update(exp1.obj, .~ 1 + (1 | random_id) + (condition | meaning))\n",
        "\n",
        "# test if model fit is improved by adding complexity\n",
        "anova(exp1.null, exp1.obj, exp1.objcond)"
      ],
      "metadata": {
        "colab": {
          "base_uri": "https://localhost:8080/",
          "height": 227
        },
        "id": "6yuJb-Tt7wdH",
        "outputId": "eb8be329-ac2d-4848-fca7-ef2e349e26e8"
      },
      "execution_count": null,
      "outputs": [
        {
          "output_type": "stream",
          "name": "stderr",
          "text": [
            "boundary (singular) fit: see ?isSingular\n",
            "\n"
          ]
        },
        {
          "output_type": "display_data",
          "data": {
            "text/plain": [
              "             npar AIC      BIC      logLik    deviance Chisq     Df\n",
              "exp1.null    2    3239.732 3251.932 -1617.866 3235.732        NA NA\n",
              "exp1.obj     3    3090.543 3108.842 -1542.271 3084.543 151.18889  1\n",
              "exp1.objcond 8    3064.814 3113.613 -1524.407 3048.814  35.72857  5\n",
              "             Pr(>Chisq)  \n",
              "exp1.null              NA\n",
              "exp1.obj     9.530237e-35\n",
              "exp1.objcond 1.076254e-06"
            ],
            "text/latex": "A anova: 3 × 8\n\\begin{tabular}{r|llllllll}\n  & npar & AIC & BIC & logLik & deviance & Chisq & Df & Pr(>Chisq)\\\\\n  & <dbl> & <dbl> & <dbl> & <dbl> & <dbl> & <dbl> & <dbl> & <dbl>\\\\\n\\hline\n\texp1.null & 2 & 3239.732 & 3251.932 & -1617.866 & 3235.732 &        NA & NA &           NA\\\\\n\texp1.obj & 3 & 3090.543 & 3108.842 & -1542.271 & 3084.543 & 151.18889 &  1 & 9.530237e-35\\\\\n\texp1.objcond & 8 & 3064.814 & 3113.613 & -1524.407 & 3048.814 &  35.72857 &  5 & 1.076254e-06\\\\\n\\end{tabular}\n",
            "text/markdown": "\nA anova: 3 × 8\n\n| <!--/--> | npar &lt;dbl&gt; | AIC &lt;dbl&gt; | BIC &lt;dbl&gt; | logLik &lt;dbl&gt; | deviance &lt;dbl&gt; | Chisq &lt;dbl&gt; | Df &lt;dbl&gt; | Pr(&gt;Chisq) &lt;dbl&gt; |\n|---|---|---|---|---|---|---|---|---|\n| exp1.null | 2 | 3239.732 | 3251.932 | -1617.866 | 3235.732 |        NA | NA |           NA |\n| exp1.obj | 3 | 3090.543 | 3108.842 | -1542.271 | 3084.543 | 151.18889 |  1 | 9.530237e-35 |\n| exp1.objcond | 8 | 3064.814 | 3113.613 | -1524.407 | 3048.814 |  35.72857 |  5 | 1.076254e-06 |\n\n",
            "text/html": [
              "<table class=\"dataframe\">\n",
              "<caption>A anova: 3 × 8</caption>\n",
              "<thead>\n",
              "\t<tr><th></th><th scope=col>npar</th><th scope=col>AIC</th><th scope=col>BIC</th><th scope=col>logLik</th><th scope=col>deviance</th><th scope=col>Chisq</th><th scope=col>Df</th><th scope=col>Pr(&gt;Chisq)</th></tr>\n",
              "\t<tr><th></th><th scope=col>&lt;dbl&gt;</th><th scope=col>&lt;dbl&gt;</th><th scope=col>&lt;dbl&gt;</th><th scope=col>&lt;dbl&gt;</th><th scope=col>&lt;dbl&gt;</th><th scope=col>&lt;dbl&gt;</th><th scope=col>&lt;dbl&gt;</th><th scope=col>&lt;dbl&gt;</th></tr>\n",
              "</thead>\n",
              "<tbody>\n",
              "\t<tr><th scope=row>exp1.null</th><td>2</td><td>3239.732</td><td>3251.932</td><td>-1617.866</td><td>3235.732</td><td>       NA</td><td>NA</td><td>          NA</td></tr>\n",
              "\t<tr><th scope=row>exp1.obj</th><td>3</td><td>3090.543</td><td>3108.842</td><td>-1542.271</td><td>3084.543</td><td>151.18889</td><td> 1</td><td>9.530237e-35</td></tr>\n",
              "\t<tr><th scope=row>exp1.objcond</th><td>8</td><td>3064.814</td><td>3113.613</td><td>-1524.407</td><td>3048.814</td><td> 35.72857</td><td> 5</td><td>1.076254e-06</td></tr>\n",
              "</tbody>\n",
              "</table>\n"
            ]
          },
          "metadata": {}
        }
      ]
    },
    {
      "cell_type": "markdown",
      "source": [
        "The model fit is significantly improved when we allow the effect of noun to vary by participant, so we'll use that as our random effects structure. Next let's build the model incrementally to test for main effects."
      ],
      "metadata": {
        "id": "ivy-hraD8Bgk"
      }
    },
    {
      "cell_type": "code",
      "source": [
        "# incrementally build up models to test for main effects\n",
        "exp1.cond <- update(exp1.obj, .~. + condition)\n",
        "\n",
        "# and then test for main effects\n",
        "anova(exp1.obj, exp1.cond)"
      ],
      "metadata": {
        "colab": {
          "base_uri": "https://localhost:8080/",
          "height": 161
        },
        "id": "KebzrYu_8Phi",
        "outputId": "78ef31c2-b6b6-4d9d-c60d-c44420d08ef9"
      },
      "execution_count": null,
      "outputs": [
        {
          "output_type": "display_data",
          "data": {
            "text/plain": [
              "          npar AIC      BIC      logLik    deviance Chisq    Df Pr(>Chisq)  \n",
              "exp1.obj  3    3090.543 3108.842 -1542.271 3084.543       NA NA           NA\n",
              "exp1.cond 5    3073.982 3104.481 -1531.991 3063.982 20.56104  2 3.429474e-05"
            ],
            "text/latex": "A anova: 2 × 8\n\\begin{tabular}{r|llllllll}\n  & npar & AIC & BIC & logLik & deviance & Chisq & Df & Pr(>Chisq)\\\\\n  & <dbl> & <dbl> & <dbl> & <dbl> & <dbl> & <dbl> & <dbl> & <dbl>\\\\\n\\hline\n\texp1.obj & 3 & 3090.543 & 3108.842 & -1542.271 & 3084.543 &       NA & NA &           NA\\\\\n\texp1.cond & 5 & 3073.982 & 3104.481 & -1531.991 & 3063.982 & 20.56104 &  2 & 3.429474e-05\\\\\n\\end{tabular}\n",
            "text/markdown": "\nA anova: 2 × 8\n\n| <!--/--> | npar &lt;dbl&gt; | AIC &lt;dbl&gt; | BIC &lt;dbl&gt; | logLik &lt;dbl&gt; | deviance &lt;dbl&gt; | Chisq &lt;dbl&gt; | Df &lt;dbl&gt; | Pr(&gt;Chisq) &lt;dbl&gt; |\n|---|---|---|---|---|---|---|---|---|\n| exp1.obj | 3 | 3090.543 | 3108.842 | -1542.271 | 3084.543 |       NA | NA |           NA |\n| exp1.cond | 5 | 3073.982 | 3104.481 | -1531.991 | 3063.982 | 20.56104 |  2 | 3.429474e-05 |\n\n",
            "text/html": [
              "<table class=\"dataframe\">\n",
              "<caption>A anova: 2 × 8</caption>\n",
              "<thead>\n",
              "\t<tr><th></th><th scope=col>npar</th><th scope=col>AIC</th><th scope=col>BIC</th><th scope=col>logLik</th><th scope=col>deviance</th><th scope=col>Chisq</th><th scope=col>Df</th><th scope=col>Pr(&gt;Chisq)</th></tr>\n",
              "\t<tr><th></th><th scope=col>&lt;dbl&gt;</th><th scope=col>&lt;dbl&gt;</th><th scope=col>&lt;dbl&gt;</th><th scope=col>&lt;dbl&gt;</th><th scope=col>&lt;dbl&gt;</th><th scope=col>&lt;dbl&gt;</th><th scope=col>&lt;dbl&gt;</th><th scope=col>&lt;dbl&gt;</th></tr>\n",
              "</thead>\n",
              "<tbody>\n",
              "\t<tr><th scope=row>exp1.obj</th><td>3</td><td>3090.543</td><td>3108.842</td><td>-1542.271</td><td>3084.543</td><td>      NA</td><td>NA</td><td>          NA</td></tr>\n",
              "\t<tr><th scope=row>exp1.cond</th><td>5</td><td>3073.982</td><td>3104.481</td><td>-1531.991</td><td>3063.982</td><td>20.56104</td><td> 2</td><td>3.429474e-05</td></tr>\n",
              "</tbody>\n",
              "</table>\n"
            ]
          },
          "metadata": {}
        }
      ]
    },
    {
      "cell_type": "markdown",
      "source": [
        "As we saw in the figure, there is a main effect of condition, indicating that use of the dominant form is predicted by condition. Let's get the model coefficients to see how much log-odds change by condition."
      ],
      "metadata": {
        "id": "UeW0WlcM8WGO"
      }
    },
    {
      "cell_type": "code",
      "source": [
        "# show model coefficients in a table\n",
        "summary(exp1.cond)$coefficients"
      ],
      "metadata": {
        "colab": {
          "base_uri": "https://localhost:8080/",
          "height": 161
        },
        "id": "KGYAGYKn8VRV",
        "outputId": "09f4c33f-5f80-47ae-b1e0-b0310fa8f2ab"
      },
      "execution_count": null,
      "outputs": [
        {
          "output_type": "display_data",
          "data": {
            "text/plain": [
              "            Estimate  Std. Error z value   Pr(>|z|)    \n",
              "(Intercept)  1.713099 0.3405760   5.030005 4.904664e-07\n",
              "condition2  -2.488066 0.5686385  -4.375479 1.211663e-05\n",
              "condition3  -2.258778 0.5747481  -3.930031 8.493498e-05"
            ],
            "text/latex": "A matrix: 3 × 4 of type dbl\n\\begin{tabular}{r|llll}\n  & Estimate & Std. Error & z value & Pr(>\\textbar{}z\\textbar{})\\\\\n\\hline\n\t(Intercept) &  1.713099 & 0.3405760 &  5.030005 & 4.904664e-07\\\\\n\tcondition2 & -2.488066 & 0.5686385 & -4.375479 & 1.211663e-05\\\\\n\tcondition3 & -2.258778 & 0.5747481 & -3.930031 & 8.493498e-05\\\\\n\\end{tabular}\n",
            "text/markdown": "\nA matrix: 3 × 4 of type dbl\n\n| <!--/--> | Estimate | Std. Error | z value | Pr(&gt;|z|) |\n|---|---|---|---|---|\n| (Intercept) |  1.713099 | 0.3405760 |  5.030005 | 4.904664e-07 |\n| condition2 | -2.488066 | 0.5686385 | -4.375479 | 1.211663e-05 |\n| condition3 | -2.258778 | 0.5747481 | -3.930031 | 8.493498e-05 |\n\n",
            "text/html": [
              "<table class=\"dataframe\">\n",
              "<caption>A matrix: 3 × 4 of type dbl</caption>\n",
              "<thead>\n",
              "\t<tr><th></th><th scope=col>Estimate</th><th scope=col>Std. Error</th><th scope=col>z value</th><th scope=col>Pr(&gt;|z|)</th></tr>\n",
              "</thead>\n",
              "<tbody>\n",
              "\t<tr><th scope=row>(Intercept)</th><td> 1.713099</td><td>0.3405760</td><td> 5.030005</td><td>4.904664e-07</td></tr>\n",
              "\t<tr><th scope=row>condition2</th><td>-2.488066</td><td>0.5686385</td><td>-4.375479</td><td>1.211663e-05</td></tr>\n",
              "\t<tr><th scope=row>condition3</th><td>-2.258778</td><td>0.5747481</td><td>-3.930031</td><td>8.493498e-05</td></tr>\n",
              "</tbody>\n",
              "</table>\n"
            ]
          },
          "metadata": {}
        }
      ]
    },
    {
      "cell_type": "markdown",
      "source": [
        "Great, so this is telling us that participants in the alternating condition actually have signficantly lower (-2.49) odds of using the dominant form than participants in the optional condition (our reference level). Participants in the alternating same as singular condition also have signficantly lower (-2.26) odds than optional. I don't really think it's worth releveling the model to compare optional directly to alternating same as singular, so I'm not going to do that here."
      ],
      "metadata": {
        "id": "JpWoYeoM8tcU"
      }
    },
    {
      "cell_type": "markdown",
      "source": [
        "#### Entropy\n",
        "\n",
        "We've determined that participants in the optional condition actually use the dominant form most, but we havent' statistically addressed the regularization question. For that we can use entropy. First we'll calculate mentropy and mutual information (by noun and animacy) for both experiments so we have those values to work with."
      ],
      "metadata": {
        "id": "Zy6idVxG9KUx"
      }
    },
    {
      "cell_type": "code",
      "source": [
        "# get entropy and mi for both experiments\n",
        "entropy_byparticipant <- data %>%\n",
        "    filter(experiment %in% c(\"Experiment 1\", \"Experiment 2\"), exp_phase == \"production\") %>%\n",
        "    group_by(experiment, condition, random_id) %>%\n",
        "    mutate(animate = ifelse(meaning %in% c(\"sheep\", \"cow\", \"pig\"), \"animate\", \"inanimate\")) %>%\n",
        "    summarise(n = n(), ent = entropy(whichPressed),\n",
        "              cond.noun = condentropy(whichPressed, noun),\n",
        "              mi.noun = ent-cond.noun,\n",
        "              cond.animacy = condentropy(whichPressed, animate),\n",
        "              mi.animacy = ent-cond.animacy) %>%\n",
        "    gather(key = \"kind_ent\", value = \"ent\", ent:mi.animacy)"
      ],
      "metadata": {
        "id": "B8VlvoJT9W86"
      },
      "execution_count": null,
      "outputs": []
    },
    {
      "cell_type": "code",
      "source": [
        "#set figure size\n",
        "options(repr.plot.width=7, repr.plot.height=6)\n",
        "\n",
        "entropy_byparticipant  %>%\n",
        "    filter(experiment == \"Experiment 1\", kind_ent == \"ent\") %>%\n",
        "    mutate(condition = factor(condition,\n",
        "                              levels = c(\"Optional\", \"Alternating\", \"Alternating (sas)\", \"Optional Frequent\", \"Optional Rare\")),\n",
        "           kind_ent = factor(kind_ent, labels = c(\"Entropy\"))) %>%\n",
        "    ggplot(aes(condition, ent, fill = condition, alpha = 0.75)) +\n",
        "    facet_grid(.~experiment, scales = \"free\", space = \"free\")+\n",
        "     #stat_summary(fun = \"mean\", geom = \"bar\", width = 0.5, color = \"black\", alpha = 0.75) +\n",
        "    geom_dotplot(binaxis = \"y\", stackdir = \"center\", alpha = 0.25, binwidth = 0.02) +\n",
        "    #stat_summary(fun = \"mean\", geom = \"point\", size = 2) +\n",
        "    stat_summary(fun.data = \"mean_se\", geom = \"errorbar\", width = 0.25, size = 1.25) +\n",
        "    theme(legend.position = \"None\") +\n",
        "    labs(x = \"\", y = \"entropy\")  +\n",
        "    scale_fill_grey()"
      ],
      "metadata": {
        "colab": {
          "base_uri": "https://localhost:8080/",
          "height": 377
        },
        "id": "corEzIl686D7",
        "outputId": "dbd2f57f-7b67-4443-c9bd-3ecd52f31c19"
      },
      "execution_count": null,
      "outputs": [
        {
          "output_type": "display_data",
          "data": {
            "image/png": "[encoded data removed]",
            "text/plain": [
              "plot without title"
            ]
          },
          "metadata": {
            "image/png": {
              "width": 420,
              "height": 360
            }
          }
        }
      ]
    },
    {
      "cell_type": "code",
      "source": [
        "# get the data we'll use for the model\n",
        "model_data_exp1_ent <- entropy_byparticipant %>%\n",
        "    filter(experiment == \"Experiment 1\", kind_ent == \"ent\") %>%\n",
        "    mutate(condition = factor(condition, levels = c(\"Optional\", \"Alternating\", \"Alternating (sas)\")))\n",
        "\n",
        "# and apply simple coding to our fixed effect of condition\n",
        "contrasts(model_data_exp1_ent$condition) <- simple3"
      ],
      "metadata": {
        "id": "khrPZuIFDYpY"
      },
      "execution_count": null,
      "outputs": []
    },
    {
      "cell_type": "code",
      "source": [
        "# build the null model\n",
        "exp1ent.null <- lm(\n",
        "              ent ~ 1,\n",
        "              data = model_data_exp1_ent)\n",
        "\n",
        "# predict entropy by condition\n",
        "exp1ent.condition <- update(exp1ent.null, .~. + condition)\n",
        "\n",
        "# test for main effect of condition\n",
        "anova(exp1ent.null, exp1ent.condition)\n",
        "\n",
        "# get model coefficients\n",
        "summary(exp1ent.condition)$coefficients"
      ],
      "metadata": {
        "colab": {
          "base_uri": "https://localhost:8080/",
          "height": 305
        },
        "id": "kKn39Io1DfCM",
        "outputId": "82e4633f-f464-490a-ef66-03bc1033cdc6"
      },
      "execution_count": null,
      "outputs": [
        {
          "output_type": "display_data",
          "data": {
            "text/plain": [
              "  Res.Df RSS      Df Sum of Sq F        Pr(>F)      \n",
              "1 60     4.712624 NA       NA        NA           NA\n",
              "2 58     3.250292  2 1.462332  13.04732 2.094737e-05"
            ],
            "text/latex": "A anova: 2 × 6\n\\begin{tabular}{r|llllll}\n  & Res.Df & RSS & Df & Sum of Sq & F & Pr(>F)\\\\\n  & <dbl> & <dbl> & <dbl> & <dbl> & <dbl> & <dbl>\\\\\n\\hline\n\t1 & 60 & 4.712624 & NA &       NA &       NA &           NA\\\\\n\t2 & 58 & 3.250292 &  2 & 1.462332 & 13.04732 & 2.094737e-05\\\\\n\\end{tabular}\n",
            "text/markdown": "\nA anova: 2 × 6\n\n| <!--/--> | Res.Df &lt;dbl&gt; | RSS &lt;dbl&gt; | Df &lt;dbl&gt; | Sum of Sq &lt;dbl&gt; | F &lt;dbl&gt; | Pr(&gt;F) &lt;dbl&gt; |\n|---|---|---|---|---|---|---|\n| 1 | 60 | 4.712624 | NA |       NA |       NA |           NA |\n| 2 | 58 | 3.250292 |  2 | 1.462332 | 13.04732 | 2.094737e-05 |\n\n",
            "text/html": [
              "<table class=\"dataframe\">\n",
              "<caption>A anova: 2 × 6</caption>\n",
              "<thead>\n",
              "\t<tr><th></th><th scope=col>Res.Df</th><th scope=col>RSS</th><th scope=col>Df</th><th scope=col>Sum of Sq</th><th scope=col>F</th><th scope=col>Pr(&gt;F)</th></tr>\n",
              "\t<tr><th></th><th scope=col>&lt;dbl&gt;</th><th scope=col>&lt;dbl&gt;</th><th scope=col>&lt;dbl&gt;</th><th scope=col>&lt;dbl&gt;</th><th scope=col>&lt;dbl&gt;</th><th scope=col>&lt;dbl&gt;</th></tr>\n",
              "</thead>\n",
              "<tbody>\n",
              "\t<tr><th scope=row>1</th><td>60</td><td>4.712624</td><td>NA</td><td>      NA</td><td>      NA</td><td>          NA</td></tr>\n",
              "\t<tr><th scope=row>2</th><td>58</td><td>3.250292</td><td> 2</td><td>1.462332</td><td>13.04732</td><td>2.094737e-05</td></tr>\n",
              "</tbody>\n",
              "</table>\n"
            ]
          },
          "metadata": {}
        },
        {
          "output_type": "display_data",
          "data": {
            "text/plain": [
              "            Estimate  Std. Error t value   Pr(>|t|)    \n",
              "(Intercept) 0.4502038 0.03031776 14.849506 2.024433e-21\n",
              "condition2  0.3521961 0.07396300  4.761787 1.321543e-05\n",
              "condition3  0.2997974 0.07485955  4.004799 1.788562e-04"
            ],
            "text/latex": "A matrix: 3 × 4 of type dbl\n\\begin{tabular}{r|llll}\n  & Estimate & Std. Error & t value & Pr(>\\textbar{}t\\textbar{})\\\\\n\\hline\n\t(Intercept) & 0.4502038 & 0.03031776 & 14.849506 & 2.024433e-21\\\\\n\tcondition2 & 0.3521961 & 0.07396300 &  4.761787 & 1.321543e-05\\\\\n\tcondition3 & 0.2997974 & 0.07485955 &  4.004799 & 1.788562e-04\\\\\n\\end{tabular}\n",
            "text/markdown": "\nA matrix: 3 × 4 of type dbl\n\n| <!--/--> | Estimate | Std. Error | t value | Pr(&gt;|t|) |\n|---|---|---|---|---|\n| (Intercept) | 0.4502038 | 0.03031776 | 14.849506 | 2.024433e-21 |\n| condition2 | 0.3521961 | 0.07396300 |  4.761787 | 1.321543e-05 |\n| condition3 | 0.2997974 | 0.07485955 |  4.004799 | 1.788562e-04 |\n\n",
            "text/html": [
              "<table class=\"dataframe\">\n",
              "<caption>A matrix: 3 × 4 of type dbl</caption>\n",
              "<thead>\n",
              "\t<tr><th></th><th scope=col>Estimate</th><th scope=col>Std. Error</th><th scope=col>t value</th><th scope=col>Pr(&gt;|t|)</th></tr>\n",
              "</thead>\n",
              "<tbody>\n",
              "\t<tr><th scope=row>(Intercept)</th><td>0.4502038</td><td>0.03031776</td><td>14.849506</td><td>2.024433e-21</td></tr>\n",
              "\t<tr><th scope=row>condition2</th><td>0.3521961</td><td>0.07396300</td><td> 4.761787</td><td>1.321543e-05</td></tr>\n",
              "\t<tr><th scope=row>condition3</th><td>0.2997974</td><td>0.07485955</td><td> 4.004799</td><td>1.788562e-04</td></tr>\n",
              "</tbody>\n",
              "</table>\n"
            ]
          },
          "metadata": {}
        }
      ]
    },
    {
      "cell_type": "code",
      "source": [
        "#set figure size\n",
        "options(repr.plot.width=12, repr.plot.height=6)\n",
        "\n",
        "entropy_byparticipant  %>%\n",
        "    filter(experiment == \"Experiment 1\", kind_ent %in% c(\"mi.noun\", \"mi.animacy\")) %>%\n",
        "    mutate(condition = factor(condition,\n",
        "                              levels = c(\"Optional\", \"Alternating\", \"Alternating (sas)\", \"Optional Frequent\", \"Optional Rare\")),\n",
        "           kind_ent = factor(kind_ent,\n",
        "                              levels = c(\"mi.noun\", \"mi.animacy\"),\n",
        "                              labels = c(\"Condition on noun\", \"Condition on animacy\"))) %>%\n",
        "    ggplot(aes(condition, ent, fill = condition, alpha = 0.75)) +\n",
        "    facet_grid(.~kind_ent, scales = \"free\", space = \"free\")+\n",
        "     #stat_summary(fun = \"mean\", geom = \"bar\", width = 0.5, color = \"black\", alpha = 0.75) +\n",
        "    geom_dotplot(binaxis = \"y\", stackdir = \"center\", alpha = 0.25, binwidth = 0.02) +\n",
        "    #stat_summary(fun = \"mean\", geom = \"point\", size = 2) +\n",
        "    stat_summary(fun.data = \"mean_se\", geom = \"errorbar\", width = 0.25, size = 1.25) +\n",
        "    theme(legend.position = \"None\") +\n",
        "    labs(x = \"\", y = \"mutual information\")  +\n",
        "    scale_fill_grey()"
      ],
      "metadata": {
        "colab": {
          "base_uri": "https://localhost:8080/",
          "height": 377
        },
        "id": "Aj6mmzALBWkI",
        "outputId": "f36be888-871a-4d29-a6d9-69c112e230a0"
      },
      "execution_count": null,
      "outputs": [
        {
          "output_type": "display_data",
          "data": {
            "image/png": "[encoded data removed]",
            "text/plain": [
              "plot without title"
            ]
          },
          "metadata": {
            "image/png": {
              "width": 720,
              "height": 360
            }
          }
        }
      ]
    },
    {
      "cell_type": "code",
      "source": [
        "# get the data we'll use for the model\n",
        "model_data_exp1_mi <- entropy_byparticipant %>%\n",
        "    filter(experiment == \"Experiment 1\", kind_ent %in% c(\"mi.noun\", \"mi.animacy\")) %>%\n",
        "    mutate(condition = factor(condition, levels = c(\"Optional\", \"Alternating\", \"Alternating (sas)\")))\n",
        "\n",
        "# and apply simple coding to our fixed effect of condition\n",
        "contrasts(model_data_exp1_mi$condition) <- simple3"
      ],
      "metadata": {
        "id": "rct6w0avKHJK"
      },
      "execution_count": null,
      "outputs": []
    },
    {
      "cell_type": "code",
      "source": [
        "# build the null model\n",
        "exp1mi.null <- lmer(\n",
        "              ent ~ 1 + (1|random_id),\n",
        "              data = filter(model_data_exp1_mi))\n",
        "\n",
        "# predict entropy by condition\n",
        "exp1mi.condition <- update(exp1mi.null, .~. + condition)\n",
        "exp1mi.kind_ent <- update(exp1mi.condition, .~. + kind_ent)\n",
        "exp1mi.interaction <- update(exp1mi.kind_ent, .~. + condition:kind_ent)\n",
        "\n",
        "# test for main effect of condition\n",
        "anova(exp1mi.null, exp1mi.condition, exp1mi.kind_ent, exp1mi.interaction)\n",
        "\n",
        "# get model coefficients\n",
        "summary(exp1mi.interaction)$coefficients"
      ],
      "metadata": {
        "colab": {
          "base_uri": "https://localhost:8080/",
          "height": 496
        },
        "id": "byqSbiDGJuC5",
        "outputId": "571df7b7-188d-4093-96fa-13af8f74ef82"
      },
      "execution_count": null,
      "outputs": [
        {
          "output_type": "stream",
          "name": "stderr",
          "text": [
            "refitting model(s) with ML (instead of REML)\n",
            "\n"
          ]
        },
        {
          "output_type": "display_data",
          "data": {
            "text/plain": [
              "                   npar AIC       BIC       logLik   deviance   Chisq     Df\n",
              "exp1mi.null        3    -69.84006 -61.42800 37.92003  -75.84006        NA NA\n",
              "exp1mi.condition   5    -72.04964 -58.02954 41.02482  -82.04964  6.209579  2\n",
              "exp1mi.kind_ent    6    -98.86549 -82.04137 55.43275 -110.86549 28.815852  1\n",
              "exp1mi.interaction 8    -96.60002 -74.16786 56.30001 -112.60002  1.734530  2\n",
              "                   Pr(>Chisq)  \n",
              "exp1mi.null                  NA\n",
              "exp1mi.condition   4.483396e-02\n",
              "exp1mi.kind_ent    7.959694e-08\n",
              "exp1mi.interaction 4.200989e-01"
            ],
            "text/latex": "A anova: 4 × 8\n\\begin{tabular}{r|llllllll}\n  & npar & AIC & BIC & logLik & deviance & Chisq & Df & Pr(>Chisq)\\\\\n  & <dbl> & <dbl> & <dbl> & <dbl> & <dbl> & <dbl> & <dbl> & <dbl>\\\\\n\\hline\n\texp1mi.null & 3 & -69.84006 & -61.42800 & 37.92003 &  -75.84006 &        NA & NA &           NA\\\\\n\texp1mi.condition & 5 & -72.04964 & -58.02954 & 41.02482 &  -82.04964 &  6.209579 &  2 & 4.483396e-02\\\\\n\texp1mi.kind\\_ent & 6 & -98.86549 & -82.04137 & 55.43275 & -110.86549 & 28.815852 &  1 & 7.959694e-08\\\\\n\texp1mi.interaction & 8 & -96.60002 & -74.16786 & 56.30001 & -112.60002 &  1.734530 &  2 & 4.200989e-01\\\\\n\\end{tabular}\n",
            "text/markdown": "\nA anova: 4 × 8\n\n| <!--/--> | npar &lt;dbl&gt; | AIC &lt;dbl&gt; | BIC &lt;dbl&gt; | logLik &lt;dbl&gt; | deviance &lt;dbl&gt; | Chisq &lt;dbl&gt; | Df &lt;dbl&gt; | Pr(&gt;Chisq) &lt;dbl&gt; |\n|---|---|---|---|---|---|---|---|---|\n| exp1mi.null | 3 | -69.84006 | -61.42800 | 37.92003 |  -75.84006 |        NA | NA |           NA |\n| exp1mi.condition | 5 | -72.04964 | -58.02954 | 41.02482 |  -82.04964 |  6.209579 |  2 | 4.483396e-02 |\n| exp1mi.kind_ent | 6 | -98.86549 | -82.04137 | 55.43275 | -110.86549 | 28.815852 |  1 | 7.959694e-08 |\n| exp1mi.interaction | 8 | -96.60002 | -74.16786 | 56.30001 | -112.60002 |  1.734530 |  2 | 4.200989e-01 |\n\n",
            "text/html": [
              "<table class=\"dataframe\">\n",
              "<caption>A anova: 4 × 8</caption>\n",
              "<thead>\n",
              "\t<tr><th></th><th scope=col>npar</th><th scope=col>AIC</th><th scope=col>BIC</th><th scope=col>logLik</th><th scope=col>deviance</th><th scope=col>Chisq</th><th scope=col>Df</th><th scope=col>Pr(&gt;Chisq)</th></tr>\n",
              "\t<tr><th></th><th scope=col>&lt;dbl&gt;</th><th scope=col>&lt;dbl&gt;</th><th scope=col>&lt;dbl&gt;</th><th scope=col>&lt;dbl&gt;</th><th scope=col>&lt;dbl&gt;</th><th scope=col>&lt;dbl&gt;</th><th scope=col>&lt;dbl&gt;</th><th scope=col>&lt;dbl&gt;</th></tr>\n",
              "</thead>\n",
              "<tbody>\n",
              "\t<tr><th scope=row>exp1mi.null</th><td>3</td><td>-69.84006</td><td>-61.42800</td><td>37.92003</td><td> -75.84006</td><td>       NA</td><td>NA</td><td>          NA</td></tr>\n",
              "\t<tr><th scope=row>exp1mi.condition</th><td>5</td><td>-72.04964</td><td>-58.02954</td><td>41.02482</td><td> -82.04964</td><td> 6.209579</td><td> 2</td><td>4.483396e-02</td></tr>\n",
              "\t<tr><th scope=row>exp1mi.kind_ent</th><td>6</td><td>-98.86549</td><td>-82.04137</td><td>55.43275</td><td>-110.86549</td><td>28.815852</td><td> 1</td><td>7.959694e-08</td></tr>\n",
              "\t<tr><th scope=row>exp1mi.interaction</th><td>8</td><td>-96.60002</td><td>-74.16786</td><td>56.30001</td><td>-112.60002</td><td> 1.734530</td><td> 2</td><td>4.200989e-01</td></tr>\n",
              "</tbody>\n",
              "</table>\n"
            ]
          },
          "metadata": {}
        },
        {
          "output_type": "display_data",
          "data": {
            "text/plain": [
              "                           Estimate   Std. Error df      t value   Pr(>|t|)    \n",
              "(Intercept)                0.09048164 0.02352544 78.6879 3.8461183 2.423500e-04\n",
              "condition2                 0.07964798 0.05739250 78.6879 1.3877768 1.691223e-01\n",
              "condition3                 0.10740009 0.05808820 78.6879 1.8489142 6.822608e-02\n",
              "kind_entmi.noun            0.11091458 0.01856555 58.0000 5.9742146 1.503093e-07\n",
              "condition2:kind_entmi.noun 0.05836155 0.04529238 58.0000 1.2885511 2.026706e-01\n",
              "condition3:kind_entmi.noun 0.02546616 0.04584140 58.0000 0.5555275 5.806704e-01"
            ],
            "text/latex": "A matrix: 6 × 5 of type dbl\n\\begin{tabular}{r|lllll}\n  & Estimate & Std. Error & df & t value & Pr(>\\textbar{}t\\textbar{})\\\\\n\\hline\n\t(Intercept) & 0.09048164 & 0.02352544 & 78.6879 & 3.8461183 & 2.423500e-04\\\\\n\tcondition2 & 0.07964798 & 0.05739250 & 78.6879 & 1.3877768 & 1.691223e-01\\\\\n\tcondition3 & 0.10740009 & 0.05808820 & 78.6879 & 1.8489142 & 6.822608e-02\\\\\n\tkind\\_entmi.noun & 0.11091458 & 0.01856555 & 58.0000 & 5.9742146 & 1.503093e-07\\\\\n\tcondition2:kind\\_entmi.noun & 0.05836155 & 0.04529238 & 58.0000 & 1.2885511 & 2.026706e-01\\\\\n\tcondition3:kind\\_entmi.noun & 0.02546616 & 0.04584140 & 58.0000 & 0.5555275 & 5.806704e-01\\\\\n\\end{tabular}\n",
            "text/markdown": "\nA matrix: 6 × 5 of type dbl\n\n| <!--/--> | Estimate | Std. Error | df | t value | Pr(&gt;|t|) |\n|---|---|---|---|---|---|\n| (Intercept) | 0.09048164 | 0.02352544 | 78.6879 | 3.8461183 | 2.423500e-04 |\n| condition2 | 0.07964798 | 0.05739250 | 78.6879 | 1.3877768 | 1.691223e-01 |\n| condition3 | 0.10740009 | 0.05808820 | 78.6879 | 1.8489142 | 6.822608e-02 |\n| kind_entmi.noun | 0.11091458 | 0.01856555 | 58.0000 | 5.9742146 | 1.503093e-07 |\n| condition2:kind_entmi.noun | 0.05836155 | 0.04529238 | 58.0000 | 1.2885511 | 2.026706e-01 |\n| condition3:kind_entmi.noun | 0.02546616 | 0.04584140 | 58.0000 | 0.5555275 | 5.806704e-01 |\n\n",
            "text/html": [
              "<table class=\"dataframe\">\n",
              "<caption>A matrix: 6 × 5 of type dbl</caption>\n",
              "<thead>\n",
              "\t<tr><th></th><th scope=col>Estimate</th><th scope=col>Std. Error</th><th scope=col>df</th><th scope=col>t value</th><th scope=col>Pr(&gt;|t|)</th></tr>\n",
              "</thead>\n",
              "<tbody>\n",
              "\t<tr><th scope=row>(Intercept)</th><td>0.09048164</td><td>0.02352544</td><td>78.6879</td><td>3.8461183</td><td>2.423500e-04</td></tr>\n",
              "\t<tr><th scope=row>condition2</th><td>0.07964798</td><td>0.05739250</td><td>78.6879</td><td>1.3877768</td><td>1.691223e-01</td></tr>\n",
              "\t<tr><th scope=row>condition3</th><td>0.10740009</td><td>0.05808820</td><td>78.6879</td><td>1.8489142</td><td>6.822608e-02</td></tr>\n",
              "\t<tr><th scope=row>kind_entmi.noun</th><td>0.11091458</td><td>0.01856555</td><td>58.0000</td><td>5.9742146</td><td>1.503093e-07</td></tr>\n",
              "\t<tr><th scope=row>condition2:kind_entmi.noun</th><td>0.05836155</td><td>0.04529238</td><td>58.0000</td><td>1.2885511</td><td>2.026706e-01</td></tr>\n",
              "\t<tr><th scope=row>condition3:kind_entmi.noun</th><td>0.02546616</td><td>0.04584140</td><td>58.0000</td><td>0.5555275</td><td>5.806704e-01</td></tr>\n",
              "</tbody>\n",
              "</table>\n"
            ]
          },
          "metadata": {}
        }
      ]
    },
    {
      "cell_type": "markdown",
      "source": [
        "## Experiment 2"
      ],
      "metadata": {
        "id": "8mlCjUXgm7nR"
      }
    },
    {
      "cell_type": "markdown",
      "source": [
        "### Participants\n",
        "\n",
        "Get all of the participants in experiment 2"
      ],
      "metadata": {
        "id": "NX51M0gNm7nc"
      }
    },
    {
      "cell_type": "code",
      "source": [
        "participants %>%\n",
        "    filter(experiment == \"Experiment 2\")"
      ],
      "metadata": {
        "colab": {
          "base_uri": "https://localhost:8080/",
          "height": 161
        },
        "outputId": "e8446648-cf70-4d2e-b69d-98f9b25425a6",
        "id": "lRWz6AW7m7nc"
      },
      "execution_count": null,
      "outputs": [
        {
          "output_type": "display_data",
          "data": {
            "text/plain": [
              "  experiment   condition         n \n",
              "1 Experiment 2 Optional Frequent 20\n",
              "2 Experiment 2 Optional Rare     20"
            ],
            "text/latex": "A grouped\\_df: 2 × 3\n\\begin{tabular}{lll}\n experiment & condition & n\\\\\n <chr> & <fct> & <int>\\\\\n\\hline\n\t Experiment 2 & Optional Frequent & 20\\\\\n\t Experiment 2 & Optional Rare     & 20\\\\\n\\end{tabular}\n",
            "text/markdown": "\nA grouped_df: 2 × 3\n\n| experiment &lt;chr&gt; | condition &lt;fct&gt; | n &lt;int&gt; |\n|---|---|---|\n| Experiment 2 | Optional Frequent | 20 |\n| Experiment 2 | Optional Rare     | 20 |\n\n",
            "text/html": [
              "<table class=\"dataframe\">\n",
              "<caption>A grouped_df: 2 × 3</caption>\n",
              "<thead>\n",
              "\t<tr><th scope=col>experiment</th><th scope=col>condition</th><th scope=col>n</th></tr>\n",
              "\t<tr><th scope=col>&lt;chr&gt;</th><th scope=col>&lt;fct&gt;</th><th scope=col>&lt;int&gt;</th></tr>\n",
              "</thead>\n",
              "<tbody>\n",
              "\t<tr><td>Experiment 2</td><td>Optional Frequent</td><td>20</td></tr>\n",
              "\t<tr><td>Experiment 2</td><td>Optional Rare    </td><td>20</td></tr>\n",
              "</tbody>\n",
              "</table>\n"
            ]
          },
          "metadata": {}
        }
      ]
    },
    {
      "cell_type": "code",
      "source": [
        "# get the results of the attention check\n",
        "attention_check %>%\n",
        "    filter(experiment == \"Experiment 2\") %>%\n",
        "    group_by(condition) %>%\n",
        "    summarise(n = n(), mean = mean(proportion), sd = sd(proportion), min = min(proportion), max = max(proportion))"
      ],
      "metadata": {
        "colab": {
          "base_uri": "https://localhost:8080/",
          "height": 161
        },
        "outputId": "9b934f76-7674-4e5a-cb51-65882999d40d",
        "id": "vhXgFsHJm7nd"
      },
      "execution_count": null,
      "outputs": [
        {
          "output_type": "display_data",
          "data": {
            "text/plain": [
              "  condition         n  mean     sd        min      max\n",
              "1 Optional Frequent 20 97.91667  2.795993 88.88889 100\n",
              "2 Optional Rare     20 96.59722 11.069687 50.00000 100"
            ],
            "text/latex": "A tibble: 2 × 6\n\\begin{tabular}{llllll}\n condition & n & mean & sd & min & max\\\\\n <fct> & <int> & <dbl> & <dbl> & <dbl> & <dbl>\\\\\n\\hline\n\t Optional Frequent & 20 & 97.91667 &  2.795993 & 88.88889 & 100\\\\\n\t Optional Rare     & 20 & 96.59722 & 11.069687 & 50.00000 & 100\\\\\n\\end{tabular}\n",
            "text/markdown": "\nA tibble: 2 × 6\n\n| condition &lt;fct&gt; | n &lt;int&gt; | mean &lt;dbl&gt; | sd &lt;dbl&gt; | min &lt;dbl&gt; | max &lt;dbl&gt; |\n|---|---|---|---|---|---|\n| Optional Frequent | 20 | 97.91667 |  2.795993 | 88.88889 | 100 |\n| Optional Rare     | 20 | 96.59722 | 11.069687 | 50.00000 | 100 |\n\n",
            "text/html": [
              "<table class=\"dataframe\">\n",
              "<caption>A tibble: 2 × 6</caption>\n",
              "<thead>\n",
              "\t<tr><th scope=col>condition</th><th scope=col>n</th><th scope=col>mean</th><th scope=col>sd</th><th scope=col>min</th><th scope=col>max</th></tr>\n",
              "\t<tr><th scope=col>&lt;fct&gt;</th><th scope=col>&lt;int&gt;</th><th scope=col>&lt;dbl&gt;</th><th scope=col>&lt;dbl&gt;</th><th scope=col>&lt;dbl&gt;</th><th scope=col>&lt;dbl&gt;</th></tr>\n",
              "</thead>\n",
              "<tbody>\n",
              "\t<tr><td>Optional Frequent</td><td>20</td><td>97.91667</td><td> 2.795993</td><td>88.88889</td><td>100</td></tr>\n",
              "\t<tr><td>Optional Rare    </td><td>20</td><td>96.59722</td><td>11.069687</td><td>50.00000</td><td>100</td></tr>\n",
              "</tbody>\n",
              "</table>\n"
            ]
          },
          "metadata": {}
        }
      ]
    },
    {
      "cell_type": "code",
      "source": [
        "# note that the min is 50%, indiciating at least one person failed the attention check.\n",
        "# let's exclude those who fail the attention check (85%) and try again.\n",
        "attention_check %>%\n",
        "    filter(experiment == \"Experiment 2\") %>%\n",
        "    filter(proportion > 85) %>%\n",
        "    group_by(condition) %>%\n",
        "    summarise(n = n(), mean = mean(proportion), sd = sd(proportion), min = min(proportion), max = max(proportion))\n"
      ],
      "metadata": {
        "colab": {
          "base_uri": "https://localhost:8080/",
          "height": 161
        },
        "id": "nQWPR8gXnOF0",
        "outputId": "eac7ebc7-575d-4921-f9bb-6cbd14033147"
      },
      "execution_count": null,
      "outputs": [
        {
          "output_type": "display_data",
          "data": {
            "text/plain": [
              "  condition         n  mean     sd       min      max\n",
              "1 Optional Frequent 20 97.91667 2.795993 88.88889 100\n",
              "2 Optional Rare     19 99.04971 1.539143 95.83333 100"
            ],
            "text/latex": "A tibble: 2 × 6\n\\begin{tabular}{llllll}\n condition & n & mean & sd & min & max\\\\\n <fct> & <int> & <dbl> & <dbl> & <dbl> & <dbl>\\\\\n\\hline\n\t Optional Frequent & 20 & 97.91667 & 2.795993 & 88.88889 & 100\\\\\n\t Optional Rare     & 19 & 99.04971 & 1.539143 & 95.83333 & 100\\\\\n\\end{tabular}\n",
            "text/markdown": "\nA tibble: 2 × 6\n\n| condition &lt;fct&gt; | n &lt;int&gt; | mean &lt;dbl&gt; | sd &lt;dbl&gt; | min &lt;dbl&gt; | max &lt;dbl&gt; |\n|---|---|---|---|---|---|\n| Optional Frequent | 20 | 97.91667 | 2.795993 | 88.88889 | 100 |\n| Optional Rare     | 19 | 99.04971 | 1.539143 | 95.83333 | 100 |\n\n",
            "text/html": [
              "<table class=\"dataframe\">\n",
              "<caption>A tibble: 2 × 6</caption>\n",
              "<thead>\n",
              "\t<tr><th scope=col>condition</th><th scope=col>n</th><th scope=col>mean</th><th scope=col>sd</th><th scope=col>min</th><th scope=col>max</th></tr>\n",
              "\t<tr><th scope=col>&lt;fct&gt;</th><th scope=col>&lt;int&gt;</th><th scope=col>&lt;dbl&gt;</th><th scope=col>&lt;dbl&gt;</th><th scope=col>&lt;dbl&gt;</th><th scope=col>&lt;dbl&gt;</th></tr>\n",
              "</thead>\n",
              "<tbody>\n",
              "\t<tr><td>Optional Frequent</td><td>20</td><td>97.91667</td><td>2.795993</td><td>88.88889</td><td>100</td></tr>\n",
              "\t<tr><td>Optional Rare    </td><td>19</td><td>99.04971</td><td>1.539143</td><td>95.83333</td><td>100</td></tr>\n",
              "</tbody>\n",
              "</table>\n"
            ]
          },
          "metadata": {}
        }
      ]
    },
    {
      "cell_type": "code",
      "source": [
        "attention_check %>%\n",
        "  filter(experiment == \"Experiment 2\") %>%\n",
        "  filter(proportion < 85) %>%\n",
        "  group_by(random_id)"
      ],
      "metadata": {
        "colab": {
          "base_uri": "https://localhost:8080/",
          "height": 129
        },
        "id": "YNjWYW6GsM_E",
        "outputId": "87cb6995-f978-4b51-f7b1-9bee1248f1b5"
      },
      "execution_count": null,
      "outputs": [
        {
          "output_type": "display_data",
          "data": {
            "text/plain": [
              "  experiment   condition     random_id    n  ncorr proportion\n",
              "1 Experiment 2 Optional Rare oocgzcqvrcc4 72 36    50        "
            ],
            "text/latex": "A grouped\\_df: 1 × 6\n\\begin{tabular}{llllll}\n experiment & condition & random\\_id & n & ncorr & proportion\\\\\n <chr> & <fct> & <chr> & <int> & <dbl> & <dbl>\\\\\n\\hline\n\t Experiment 2 & Optional Rare & oocgzcqvrcc4 & 72 & 36 & 50\\\\\n\\end{tabular}\n",
            "text/markdown": "\nA grouped_df: 1 × 6\n\n| experiment &lt;chr&gt; | condition &lt;fct&gt; | random_id &lt;chr&gt; | n &lt;int&gt; | ncorr &lt;dbl&gt; | proportion &lt;dbl&gt; |\n|---|---|---|---|---|---|\n| Experiment 2 | Optional Rare | oocgzcqvrcc4 | 72 | 36 | 50 |\n\n",
            "text/html": [
              "<table class=\"dataframe\">\n",
              "<caption>A grouped_df: 1 × 6</caption>\n",
              "<thead>\n",
              "\t<tr><th scope=col>experiment</th><th scope=col>condition</th><th scope=col>random_id</th><th scope=col>n</th><th scope=col>ncorr</th><th scope=col>proportion</th></tr>\n",
              "\t<tr><th scope=col>&lt;chr&gt;</th><th scope=col>&lt;fct&gt;</th><th scope=col>&lt;chr&gt;</th><th scope=col>&lt;int&gt;</th><th scope=col>&lt;dbl&gt;</th><th scope=col>&lt;dbl&gt;</th></tr>\n",
              "</thead>\n",
              "<tbody>\n",
              "\t<tr><td>Experiment 2</td><td>Optional Rare</td><td>oocgzcqvrcc4</td><td>72</td><td>36</td><td>50</td></tr>\n",
              "</tbody>\n",
              "</table>\n"
            ]
          },
          "metadata": {}
        }
      ]
    },
    {
      "cell_type": "markdown",
      "source": [
        "### Results\n",
        "\n",
        "Next we'll analyze the production test. We want to know whether participants regularize more in some conditions than others. We've hypothesized that participants in the optional rare condition should regularize less.\n"
      ],
      "metadata": {
        "id": "p_1eHKQ5m7nd"
      }
    },
    {
      "cell_type": "markdown",
      "source": [
        "#### Use of dominant form\n",
        "\n",
        "One way to test this is to simply ask whether participants use the dominant form more."
      ],
      "metadata": {
        "id": "b9XiLRe-m7nd"
      }
    },
    {
      "cell_type": "code",
      "source": [
        "#set figure size\n",
        "options(repr.plot.width=7, repr.plot.height=6)\n",
        "\n",
        "# first let's get use of the dominant form by participant in Experiment 2\n",
        "use_dominant <- data %>%\n",
        "    filter(experiment == \"Experiment 2\") %>%\n",
        "    filter(exp_phase == \"production\") %>%\n",
        "    filter(random_id != \"oocgzcqvrcc4\") %>%\n",
        "    mutate(condition = factor(condition))%>%\n",
        "    group_by(experiment, condition, random_id) %>%\n",
        "    summarise(n = n(), nKa = sum(isKa), proportion = nKa/n*100)\n",
        "\n",
        "# and then generate a figure from that for the paper\n",
        "use_dominant %>%\n",
        "    ggplot(aes(condition, proportion, fill = condition)) +\n",
        "    facet_grid(.~experiment)+\n",
        "    geom_dotplot(binaxis = \"y\", stackdir = \"center\", alpha = 0.25, binwidth = 3) +\n",
        "    stat_summary(fun.data = \"mean_se\", geom = \"errorbar\", width = 0.25, size = 1) +\n",
        "    geom_hline(yintercept = 67, linetype = \"dashed\", color = \"dark gray\") +\n",
        "    geom_hline(yintercept = 33, linetype = \"dashed\", color = \"light gray\") +\n",
        "    theme(legend.position = \"None\") +\n",
        "    labs(x = \"\", y = \"proportion marked -ka\") +\n",
        "    ylim(c(0,100)) +\n",
        "    scale_fill_grey()"
      ],
      "metadata": {
        "colab": {
          "base_uri": "https://localhost:8080/",
          "height": 377
        },
        "outputId": "9ba6ea2d-53c1-470e-f81c-c571a1d2735f",
        "id": "Z-c_vTvQm7nd"
      },
      "execution_count": null,
      "outputs": [
        {
          "output_type": "display_data",
          "data": {
            "image/png": "[encoded data removed]",
            "text/plain": [
              "plot without title"
            ]
          },
          "metadata": {
            "image/png": {
              "width": 420,
              "height": 360
            }
          }
        }
      ]
    },
    {
      "cell_type": "markdown",
      "source": [
        "What we can see from the figure is as predicted. let's get some stats."
      ],
      "metadata": {
        "id": "dIcRSPV_m7nd"
      }
    },
    {
      "cell_type": "code",
      "source": [
        "# get the data we'll use for the model\n",
        "model_data_exp2 <- data %>%\n",
        "    filter(random_id != \"oocgzcqvrcc4\") %>%\n",
        "    filter(experiment == \"Experiment 2\", exp_phase == \"production\") %>%\n",
        "    mutate(condition = factor(condition))\n",
        "\n",
        "# and apply simple coding to our fixed effect of condition\n",
        "contrasts(model_data_exp2$condition) <- simple2"
      ],
      "metadata": {
        "id": "kIiiDN09m7nd"
      },
      "execution_count": null,
      "outputs": []
    },
    {
      "cell_type": "markdown",
      "source": [
        "Next let's determine the best fitting random effects structure. Here we'll only add complexity to the model when doing so contributes to fit."
      ],
      "metadata": {
        "id": "zfIqg_1lm7ne"
      }
    },
    {
      "cell_type": "code",
      "source": [
        "# build the null model, with random intercepts and slopes for participants\n",
        "exp2.null <- glmer(\n",
        "              isKa ~ 1 + (1|random_id),\n",
        "              family = \"binomial\",\n",
        "              data = filter(model_data_exp2),\n",
        "              control=glmerControl(optimizer=\"bobyqa\"))\n",
        "\n",
        "# add a random intercepts for objects\n",
        "exp2.obj <- update(exp2.null, .~ 1 + (1 | random_id) + (1 | meaning))\n",
        "\n",
        "# random intercepts and slopes for objects\n",
        "exp2.objcond <- update(exp2.obj, .~ 1 + (1 | random_id) + (condition | meaning))\n",
        "\n",
        "# test if model fit is improved by adding complexity\n",
        "anova(exp2.null, exp2.obj, exp2.objcond)"
      ],
      "metadata": {
        "colab": {
          "base_uri": "https://localhost:8080/",
          "height": 192
        },
        "outputId": "b49843c2-188c-476a-988e-60a67d40671c",
        "id": "QnWIPUUTm7ne"
      },
      "execution_count": null,
      "outputs": [
        {
          "output_type": "display_data",
          "data": {
            "text/plain": [
              "             npar AIC      BIC      logLik    deviance Chisq    Df Pr(>Chisq)\n",
              "exp2.null    2    1842.770 1854.075 -919.3852 1838.770       NA NA         NA\n",
              "exp2.obj     3    1840.788 1857.745 -917.3938 1834.788 3.982834  1 0.04596617\n",
              "exp2.objcond 5    1840.164 1868.427 -915.0819 1830.164 4.623689  2 0.09907836"
            ],
            "text/latex": "A anova: 3 × 8\n\\begin{tabular}{r|llllllll}\n  & npar & AIC & BIC & logLik & deviance & Chisq & Df & Pr(>Chisq)\\\\\n  & <dbl> & <dbl> & <dbl> & <dbl> & <dbl> & <dbl> & <dbl> & <dbl>\\\\\n\\hline\n\texp2.null & 2 & 1842.770 & 1854.075 & -919.3852 & 1838.770 &       NA & NA &         NA\\\\\n\texp2.obj & 3 & 1840.788 & 1857.745 & -917.3938 & 1834.788 & 3.982834 &  1 & 0.04596617\\\\\n\texp2.objcond & 5 & 1840.164 & 1868.427 & -915.0819 & 1830.164 & 4.623689 &  2 & 0.09907836\\\\\n\\end{tabular}\n",
            "text/markdown": "\nA anova: 3 × 8\n\n| <!--/--> | npar &lt;dbl&gt; | AIC &lt;dbl&gt; | BIC &lt;dbl&gt; | logLik &lt;dbl&gt; | deviance &lt;dbl&gt; | Chisq &lt;dbl&gt; | Df &lt;dbl&gt; | Pr(&gt;Chisq) &lt;dbl&gt; |\n|---|---|---|---|---|---|---|---|---|\n| exp2.null | 2 | 1842.770 | 1854.075 | -919.3852 | 1838.770 |       NA | NA |         NA |\n| exp2.obj | 3 | 1840.788 | 1857.745 | -917.3938 | 1834.788 | 3.982834 |  1 | 0.04596617 |\n| exp2.objcond | 5 | 1840.164 | 1868.427 | -915.0819 | 1830.164 | 4.623689 |  2 | 0.09907836 |\n\n",
            "text/html": [
              "<table class=\"dataframe\">\n",
              "<caption>A anova: 3 × 8</caption>\n",
              "<thead>\n",
              "\t<tr><th></th><th scope=col>npar</th><th scope=col>AIC</th><th scope=col>BIC</th><th scope=col>logLik</th><th scope=col>deviance</th><th scope=col>Chisq</th><th scope=col>Df</th><th scope=col>Pr(&gt;Chisq)</th></tr>\n",
              "\t<tr><th></th><th scope=col>&lt;dbl&gt;</th><th scope=col>&lt;dbl&gt;</th><th scope=col>&lt;dbl&gt;</th><th scope=col>&lt;dbl&gt;</th><th scope=col>&lt;dbl&gt;</th><th scope=col>&lt;dbl&gt;</th><th scope=col>&lt;dbl&gt;</th><th scope=col>&lt;dbl&gt;</th></tr>\n",
              "</thead>\n",
              "<tbody>\n",
              "\t<tr><th scope=row>exp2.null</th><td>2</td><td>1842.770</td><td>1854.075</td><td>-919.3852</td><td>1838.770</td><td>      NA</td><td>NA</td><td>        NA</td></tr>\n",
              "\t<tr><th scope=row>exp2.obj</th><td>3</td><td>1840.788</td><td>1857.745</td><td>-917.3938</td><td>1834.788</td><td>3.982834</td><td> 1</td><td>0.04596617</td></tr>\n",
              "\t<tr><th scope=row>exp2.objcond</th><td>5</td><td>1840.164</td><td>1868.427</td><td>-915.0819</td><td>1830.164</td><td>4.623689</td><td> 2</td><td>0.09907836</td></tr>\n",
              "</tbody>\n",
              "</table>\n"
            ]
          },
          "metadata": {}
        }
      ]
    },
    {
      "cell_type": "markdown",
      "source": [
        "The model fit is significantly improved when we allow the effect of noun to vary by participant, so we'll use that as our random effects structure. Next let's build the model incrementally to test for main effects."
      ],
      "metadata": {
        "id": "BJsVCwKXm7ne"
      }
    },
    {
      "cell_type": "code",
      "source": [
        "# incrementally build up models to test for main effects\n",
        "exp2.cond <- update(exp2.obj, .~. + condition)\n",
        "\n",
        "# and then test for main effects\n",
        "anova(exp2.obj, exp2.cond)"
      ],
      "metadata": {
        "colab": {
          "base_uri": "https://localhost:8080/",
          "height": 161
        },
        "outputId": "6e922ef9-9e74-4d6a-b860-ff47d74d4173",
        "id": "0--aue3Am7ne"
      },
      "execution_count": null,
      "outputs": [
        {
          "output_type": "display_data",
          "data": {
            "text/plain": [
              "          npar AIC      BIC      logLik    deviance Chisq    Df Pr(>Chisq)  \n",
              "exp2.obj  3    1840.788 1857.745 -917.3938 1834.788       NA NA           NA\n",
              "exp2.cond 4    1830.465 1853.075 -911.2325 1822.465 12.32247  1 0.0004475383"
            ],
            "text/latex": "A anova: 2 × 8\n\\begin{tabular}{r|llllllll}\n  & npar & AIC & BIC & logLik & deviance & Chisq & Df & Pr(>Chisq)\\\\\n  & <dbl> & <dbl> & <dbl> & <dbl> & <dbl> & <dbl> & <dbl> & <dbl>\\\\\n\\hline\n\texp2.obj & 3 & 1840.788 & 1857.745 & -917.3938 & 1834.788 &       NA & NA &           NA\\\\\n\texp2.cond & 4 & 1830.465 & 1853.075 & -911.2325 & 1822.465 & 12.32247 &  1 & 0.0004475383\\\\\n\\end{tabular}\n",
            "text/markdown": "\nA anova: 2 × 8\n\n| <!--/--> | npar &lt;dbl&gt; | AIC &lt;dbl&gt; | BIC &lt;dbl&gt; | logLik &lt;dbl&gt; | deviance &lt;dbl&gt; | Chisq &lt;dbl&gt; | Df &lt;dbl&gt; | Pr(&gt;Chisq) &lt;dbl&gt; |\n|---|---|---|---|---|---|---|---|---|\n| exp2.obj | 3 | 1840.788 | 1857.745 | -917.3938 | 1834.788 |       NA | NA |           NA |\n| exp2.cond | 4 | 1830.465 | 1853.075 | -911.2325 | 1822.465 | 12.32247 |  1 | 0.0004475383 |\n\n",
            "text/html": [
              "<table class=\"dataframe\">\n",
              "<caption>A anova: 2 × 8</caption>\n",
              "<thead>\n",
              "\t<tr><th></th><th scope=col>npar</th><th scope=col>AIC</th><th scope=col>BIC</th><th scope=col>logLik</th><th scope=col>deviance</th><th scope=col>Chisq</th><th scope=col>Df</th><th scope=col>Pr(&gt;Chisq)</th></tr>\n",
              "\t<tr><th></th><th scope=col>&lt;dbl&gt;</th><th scope=col>&lt;dbl&gt;</th><th scope=col>&lt;dbl&gt;</th><th scope=col>&lt;dbl&gt;</th><th scope=col>&lt;dbl&gt;</th><th scope=col>&lt;dbl&gt;</th><th scope=col>&lt;dbl&gt;</th><th scope=col>&lt;dbl&gt;</th></tr>\n",
              "</thead>\n",
              "<tbody>\n",
              "\t<tr><th scope=row>exp2.obj</th><td>3</td><td>1840.788</td><td>1857.745</td><td>-917.3938</td><td>1834.788</td><td>      NA</td><td>NA</td><td>          NA</td></tr>\n",
              "\t<tr><th scope=row>exp2.cond</th><td>4</td><td>1830.465</td><td>1853.075</td><td>-911.2325</td><td>1822.465</td><td>12.32247</td><td> 1</td><td>0.0004475383</td></tr>\n",
              "</tbody>\n",
              "</table>\n"
            ]
          },
          "metadata": {}
        }
      ]
    },
    {
      "cell_type": "markdown",
      "source": [
        "As we saw in the figure, there is a main effect of condition, indicating that use of the dominant form is predicted by condition. Let's get the model coefficients to see how much log-odds change by condition."
      ],
      "metadata": {
        "id": "YHx5DIX2m7nf"
      }
    },
    {
      "cell_type": "code",
      "source": [
        "# show model coefficients in a table\n",
        "summary(exp2.cond)$coefficients"
      ],
      "metadata": {
        "colab": {
          "base_uri": "https://localhost:8080/",
          "height": 129
        },
        "outputId": "78cd15d2-5134-453b-80a9-684e161d2838",
        "id": "fo0lHT88m7nf"
      },
      "execution_count": null,
      "outputs": [
        {
          "output_type": "display_data",
          "data": {
            "text/plain": [
              "            Estimate  Std. Error z value   Pr(>|z|)   \n",
              "(Intercept)  1.086977 0.3808262   2.854260 0.004313717\n",
              "condition2  -2.798979 0.7457291  -3.753346 0.000174490"
            ],
            "text/latex": "A matrix: 2 × 4 of type dbl\n\\begin{tabular}{r|llll}\n  & Estimate & Std. Error & z value & Pr(>\\textbar{}z\\textbar{})\\\\\n\\hline\n\t(Intercept) &  1.086977 & 0.3808262 &  2.854260 & 0.004313717\\\\\n\tcondition2 & -2.798979 & 0.7457291 & -3.753346 & 0.000174490\\\\\n\\end{tabular}\n",
            "text/markdown": "\nA matrix: 2 × 4 of type dbl\n\n| <!--/--> | Estimate | Std. Error | z value | Pr(&gt;|z|) |\n|---|---|---|---|---|\n| (Intercept) |  1.086977 | 0.3808262 |  2.854260 | 0.004313717 |\n| condition2 | -2.798979 | 0.7457291 | -3.753346 | 0.000174490 |\n\n",
            "text/html": [
              "<table class=\"dataframe\">\n",
              "<caption>A matrix: 2 × 4 of type dbl</caption>\n",
              "<thead>\n",
              "\t<tr><th></th><th scope=col>Estimate</th><th scope=col>Std. Error</th><th scope=col>z value</th><th scope=col>Pr(&gt;|z|)</th></tr>\n",
              "</thead>\n",
              "<tbody>\n",
              "\t<tr><th scope=row>(Intercept)</th><td> 1.086977</td><td>0.3808262</td><td> 2.854260</td><td>0.004313717</td></tr>\n",
              "\t<tr><th scope=row>condition2</th><td>-2.798979</td><td>0.7457291</td><td>-3.753346</td><td>0.000174490</td></tr>\n",
              "</tbody>\n",
              "</table>\n"
            ]
          },
          "metadata": {}
        }
      ]
    },
    {
      "cell_type": "markdown",
      "source": [
        "Great, so this is telling us that participants in the alternating condition actually have signficantly lower (-2.49) odds of using the dominant form than participants in the optional condition (our reference level). Participants in the alternating same as singular condition also have signficantly lower (-2.26) odds than optional. I don't really think it's worth releveling the model to compare optional directly to alternating same as singular, so I'm not going to do that here."
      ],
      "metadata": {
        "id": "jgBArTM-m7nf"
      }
    },
    {
      "cell_type": "markdown",
      "source": [
        "#### Entropy\n",
        "\n",
        "We've determined that participants in the optional condition actually use the dominant form most, but we havent' statistically addressed the regularization question. For that we can use entropy. First we'll calculate mentropy and mutual information (by noun and animacy) for both experiments so we have those values to work with."
      ],
      "metadata": {
        "id": "ZmoNl-a4m7nf"
      }
    },
    {
      "cell_type": "code",
      "source": [
        "#set figure size\n",
        "options(repr.plot.width=7, repr.plot.height=6)\n",
        "\n",
        "entropy_byparticipant  %>%\n",
        "    filter(random_id != \"oocgzcqvrcc4\") %>%\n",
        "    filter(experiment == \"Experiment 2\", kind_ent == \"ent\") %>%\n",
        "    mutate(condition = factor(condition),\n",
        "           kind_ent = factor(kind_ent, labels = c(\"Entropy\"))) %>%\n",
        "    ggplot(aes(condition, ent, fill = condition, alpha = 0.75)) +\n",
        "    facet_grid(.~experiment, scales = \"free\", space = \"free\")+\n",
        "     #stat_summary(fun = \"mean\", geom = \"bar\", width = 0.5, color = \"black\", alpha = 0.75) +\n",
        "    geom_dotplot(binaxis = \"y\", stackdir = \"center\", alpha = 0.25, binwidth = 0.025) +\n",
        "    #stat_summary(fun = \"mean\", geom = \"point\", size = 2) +\n",
        "    stat_summary(fun.data = \"mean_se\", geom = \"errorbar\", width = 0.25, size = 1.25) +\n",
        "    theme(legend.position = \"None\") +\n",
        "    labs(x = \"\", y = \"entropy\")  +\n",
        "    scale_fill_grey()"
      ],
      "metadata": {
        "colab": {
          "base_uri": "https://localhost:8080/",
          "height": 377
        },
        "outputId": "3fc06b59-8153-4315-e626-123191502472",
        "id": "nEBbt3n7m7nf"
      },
      "execution_count": null,
      "outputs": [
        {
          "output_type": "display_data",
          "data": {
            "image/png": "[encoded data removed]",
            "text/plain": [
              "plot without title"
            ]
          },
          "metadata": {
            "image/png": {
              "width": 420,
              "height": 360
            }
          }
        }
      ]
    },
    {
      "cell_type": "code",
      "source": [
        "# get the data we'll use for the model\n",
        "model_data_exp2_ent <- entropy_byparticipant %>%\n",
        "    filter(random_id != \"oocgzcqvrcc4\") %>%\n",
        "    filter(experiment == \"Experiment 2\", kind_ent == \"ent\") %>%\n",
        "    mutate(condition = factor(condition))\n",
        "\n",
        "# and apply simple coding to our fixed effect of condition\n",
        "contrasts(model_data_exp2_ent$condition) <- simple2"
      ],
      "metadata": {
        "id": "UVyXaQfHm7nf"
      },
      "execution_count": null,
      "outputs": []
    },
    {
      "cell_type": "code",
      "source": [
        "# build the null model\n",
        "exp2ent.null <- lm(\n",
        "              ent ~ 1,\n",
        "              data = model_data_exp2_ent)\n",
        "\n",
        "# predict entropy by condition\n",
        "exp2ent.condition <- update(exp2ent.null, .~. + condition)\n",
        "\n",
        "# test for main effect of condition\n",
        "anova(exp2ent.null, exp2ent.condition)\n",
        "\n",
        "# get model coefficients\n",
        "summary(exp2ent.condition)$coefficients"
      ],
      "metadata": {
        "colab": {
          "base_uri": "https://localhost:8080/",
          "height": 273
        },
        "outputId": "69d97ce4-d3ec-46e9-c6fe-3a94aa619f6c",
        "id": "F3oZkh4Tm7ng"
      },
      "execution_count": null,
      "outputs": [
        {
          "output_type": "display_data",
          "data": {
            "text/plain": [
              "  Res.Df RSS      Df Sum of Sq F        Pr(>F)     \n",
              "1 38     2.751084 NA        NA       NA          NA\n",
              "2 37     2.104376  1 0.6467077 11.37068 0.001759389"
            ],
            "text/latex": "A anova: 2 × 6\n\\begin{tabular}{r|llllll}\n  & Res.Df & RSS & Df & Sum of Sq & F & Pr(>F)\\\\\n  & <dbl> & <dbl> & <dbl> & <dbl> & <dbl> & <dbl>\\\\\n\\hline\n\t1 & 38 & 2.751084 & NA &        NA &       NA &          NA\\\\\n\t2 & 37 & 2.104376 &  1 & 0.6467077 & 11.37068 & 0.001759389\\\\\n\\end{tabular}\n",
            "text/markdown": "\nA anova: 2 × 6\n\n| <!--/--> | Res.Df &lt;dbl&gt; | RSS &lt;dbl&gt; | Df &lt;dbl&gt; | Sum of Sq &lt;dbl&gt; | F &lt;dbl&gt; | Pr(&gt;F) &lt;dbl&gt; |\n|---|---|---|---|---|---|---|\n| 1 | 38 | 2.751084 | NA |        NA |       NA |          NA |\n| 2 | 37 | 2.104376 |  1 | 0.6467077 | 11.37068 | 0.001759389 |\n\n",
            "text/html": [
              "<table class=\"dataframe\">\n",
              "<caption>A anova: 2 × 6</caption>\n",
              "<thead>\n",
              "\t<tr><th></th><th scope=col>Res.Df</th><th scope=col>RSS</th><th scope=col>Df</th><th scope=col>Sum of Sq</th><th scope=col>F</th><th scope=col>Pr(&gt;F)</th></tr>\n",
              "\t<tr><th></th><th scope=col>&lt;dbl&gt;</th><th scope=col>&lt;dbl&gt;</th><th scope=col>&lt;dbl&gt;</th><th scope=col>&lt;dbl&gt;</th><th scope=col>&lt;dbl&gt;</th><th scope=col>&lt;dbl&gt;</th></tr>\n",
              "</thead>\n",
              "<tbody>\n",
              "\t<tr><th scope=row>1</th><td>38</td><td>2.751084</td><td>NA</td><td>       NA</td><td>      NA</td><td>         NA</td></tr>\n",
              "\t<tr><th scope=row>2</th><td>37</td><td>2.104376</td><td> 1</td><td>0.6467077</td><td>11.37068</td><td>0.001759389</td></tr>\n",
              "</tbody>\n",
              "</table>\n"
            ]
          },
          "metadata": {}
        },
        {
          "output_type": "display_data",
          "data": {
            "text/plain": [
              "            Estimate  Std. Error t value   Pr(>|t|)    \n",
              "(Intercept) 0.3977599 0.03820070 10.412372 1.507518e-12\n",
              "condition2  0.2576289 0.07640141  3.372043 1.759389e-03"
            ],
            "text/latex": "A matrix: 2 × 4 of type dbl\n\\begin{tabular}{r|llll}\n  & Estimate & Std. Error & t value & Pr(>\\textbar{}t\\textbar{})\\\\\n\\hline\n\t(Intercept) & 0.3977599 & 0.03820070 & 10.412372 & 1.507518e-12\\\\\n\tcondition2 & 0.2576289 & 0.07640141 &  3.372043 & 1.759389e-03\\\\\n\\end{tabular}\n",
            "text/markdown": "\nA matrix: 2 × 4 of type dbl\n\n| <!--/--> | Estimate | Std. Error | t value | Pr(&gt;|t|) |\n|---|---|---|---|---|\n| (Intercept) | 0.3977599 | 0.03820070 | 10.412372 | 1.507518e-12 |\n| condition2 | 0.2576289 | 0.07640141 |  3.372043 | 1.759389e-03 |\n\n",
            "text/html": [
              "<table class=\"dataframe\">\n",
              "<caption>A matrix: 2 × 4 of type dbl</caption>\n",
              "<thead>\n",
              "\t<tr><th></th><th scope=col>Estimate</th><th scope=col>Std. Error</th><th scope=col>t value</th><th scope=col>Pr(&gt;|t|)</th></tr>\n",
              "</thead>\n",
              "<tbody>\n",
              "\t<tr><th scope=row>(Intercept)</th><td>0.3977599</td><td>0.03820070</td><td>10.412372</td><td>1.507518e-12</td></tr>\n",
              "\t<tr><th scope=row>condition2</th><td>0.2576289</td><td>0.07640141</td><td> 3.372043</td><td>1.759389e-03</td></tr>\n",
              "</tbody>\n",
              "</table>\n"
            ]
          },
          "metadata": {}
        }
      ]
    },
    {
      "cell_type": "code",
      "source": [
        "#set figure size\n",
        "options(repr.plot.width=12, repr.plot.height=6)\n",
        "\n",
        "entropy_byparticipant  %>%\n",
        "      filter(random_id != \"oocgzcqvrcc4\") %>%\n",
        "    filter(experiment == \"Experiment 2\", kind_ent %in% c(\"mi.noun\", \"mi.animacy\")) %>%\n",
        "    mutate(condition = factor(condition),\n",
        "           kind_ent = factor(kind_ent,\n",
        "                              levels = c(\"mi.noun\", \"mi.animacy\"),\n",
        "                              labels = c(\"Condition on noun\", \"Condition on animacy\"))) %>%\n",
        "    ggplot(aes(condition, ent, fill = condition, alpha = 0.75)) +\n",
        "    facet_grid(.~kind_ent, scales = \"free\", space = \"free\")+\n",
        "     #stat_summary(fun = \"mean\", geom = \"bar\", width = 0.5, color = \"black\", alpha = 0.75) +\n",
        "    geom_dotplot(binaxis = \"y\", stackdir = \"center\", alpha = 0.25, binwidth = 0.015) +\n",
        "    #stat_summary(fun = \"mean\", geom = \"point\", size = 2) +\n",
        "    stat_summary(fun.data = \"mean_se\", geom = \"errorbar\", width = 0.25, size = 1.25) +\n",
        "    theme(legend.position = \"None\") +\n",
        "    labs(x = \"\", y = \"mutual information\")  +\n",
        "    scale_fill_grey()"
      ],
      "metadata": {
        "colab": {
          "base_uri": "https://localhost:8080/",
          "height": 377
        },
        "outputId": "98510f4c-5234-4c5c-ea04-f11db813ee01",
        "id": "_LVvKZgom7ng"
      },
      "execution_count": null,
      "outputs": [
        {
          "output_type": "display_data",
          "data": {
            "image/png": "[encoded data removed]",
            "text/plain": [
              "plot without title"
            ]
          },
          "metadata": {
            "image/png": {
              "width": 720,
              "height": 360
            }
          }
        }
      ]
    },
    {
      "cell_type": "code",
      "source": [
        "# get the data we'll use for the model\n",
        "model_data_exp2_mi <- entropy_byparticipant %>%\n",
        "    filter(random_id != \"oocgzcqvrcc4\") %>%\n",
        "    filter(experiment == \"Experiment 2\", kind_ent %in% c(\"mi.noun\", \"mi.animacy\")) %>%\n",
        "    mutate(condition = factor(condition))\n",
        "\n",
        "# and apply simple coding to our fixed effect of condition\n",
        "contrasts(model_data_exp2_mi$condition) <- simple2"
      ],
      "metadata": {
        "id": "xrhqyqgwm7ng"
      },
      "execution_count": null,
      "outputs": []
    },
    {
      "cell_type": "code",
      "source": [
        "# build the null model\n",
        "exp2mi.null <- lmer(\n",
        "              ent ~ 1 + (1|random_id),\n",
        "              data = filter(model_data_exp2_mi))\n",
        "\n",
        "# predict entropy by condition\n",
        "exp2mi.condition <- update(exp2mi.null, .~. + condition)\n",
        "exp2mi.kind_ent <- update(exp2mi.condition, .~. + kind_ent)\n",
        "exp2mi.interaction <- update(exp2mi.kind_ent, .~. + condition:kind_ent)\n",
        "\n",
        "# test for main effect of condition\n",
        "anova(exp2mi.null, exp2mi.condition, exp2mi.kind_ent, exp2mi.interaction)\n",
        "\n",
        "# get model coefficients\n",
        "summary(exp2mi.interaction)$coefficients"
      ],
      "metadata": {
        "colab": {
          "base_uri": "https://localhost:8080/",
          "height": 433
        },
        "outputId": "d2df54ee-e473-49c4-a24b-c0e009063279",
        "id": "b9nI633km7ng"
      },
      "execution_count": null,
      "outputs": [
        {
          "output_type": "stream",
          "name": "stderr",
          "text": [
            "refitting model(s) with ML (instead of REML)\n",
            "\n"
          ]
        },
        {
          "output_type": "display_data",
          "data": {
            "text/plain": [
              "                   npar AIC       BIC       logLik   deviance  Chisq      Df\n",
              "exp2mi.null        3    -156.3852 -149.3151 81.19260 -162.3852         NA NA\n",
              "exp2mi.condition   4    -155.6828 -146.2560 81.84142 -163.6828  1.2976382  1\n",
              "exp2mi.kind_ent    5    -173.7939 -162.0104 91.89697 -183.7939 20.1111017  1\n",
              "exp2mi.interaction 6    -172.4059 -158.2656 92.20293 -184.4059  0.6119168  1\n",
              "                   Pr(>Chisq)  \n",
              "exp2mi.null                  NA\n",
              "exp2mi.condition   2.546451e-01\n",
              "exp2mi.kind_ent    7.307130e-06\n",
              "exp2mi.interaction 4.340670e-01"
            ],
            "text/latex": "A anova: 4 × 8\n\\begin{tabular}{r|llllllll}\n  & npar & AIC & BIC & logLik & deviance & Chisq & Df & Pr(>Chisq)\\\\\n  & <dbl> & <dbl> & <dbl> & <dbl> & <dbl> & <dbl> & <dbl> & <dbl>\\\\\n\\hline\n\texp2mi.null & 3 & -156.3852 & -149.3151 & 81.19260 & -162.3852 &         NA & NA &           NA\\\\\n\texp2mi.condition & 4 & -155.6828 & -146.2560 & 81.84142 & -163.6828 &  1.2976382 &  1 & 2.546451e-01\\\\\n\texp2mi.kind\\_ent & 5 & -173.7939 & -162.0104 & 91.89697 & -183.7939 & 20.1111017 &  1 & 7.307130e-06\\\\\n\texp2mi.interaction & 6 & -172.4059 & -158.2656 & 92.20293 & -184.4059 &  0.6119168 &  1 & 4.340670e-01\\\\\n\\end{tabular}\n",
            "text/markdown": "\nA anova: 4 × 8\n\n| <!--/--> | npar &lt;dbl&gt; | AIC &lt;dbl&gt; | BIC &lt;dbl&gt; | logLik &lt;dbl&gt; | deviance &lt;dbl&gt; | Chisq &lt;dbl&gt; | Df &lt;dbl&gt; | Pr(&gt;Chisq) &lt;dbl&gt; |\n|---|---|---|---|---|---|---|---|---|\n| exp2mi.null | 3 | -156.3852 | -149.3151 | 81.19260 | -162.3852 |         NA | NA |           NA |\n| exp2mi.condition | 4 | -155.6828 | -146.2560 | 81.84142 | -163.6828 |  1.2976382 |  1 | 2.546451e-01 |\n| exp2mi.kind_ent | 5 | -173.7939 | -162.0104 | 91.89697 | -183.7939 | 20.1111017 |  1 | 7.307130e-06 |\n| exp2mi.interaction | 6 | -172.4059 | -158.2656 | 92.20293 | -184.4059 |  0.6119168 |  1 | 4.340670e-01 |\n\n",
            "text/html": [
              "<table class=\"dataframe\">\n",
              "<caption>A anova: 4 × 8</caption>\n",
              "<thead>\n",
              "\t<tr><th></th><th scope=col>npar</th><th scope=col>AIC</th><th scope=col>BIC</th><th scope=col>logLik</th><th scope=col>deviance</th><th scope=col>Chisq</th><th scope=col>Df</th><th scope=col>Pr(&gt;Chisq)</th></tr>\n",
              "\t<tr><th></th><th scope=col>&lt;dbl&gt;</th><th scope=col>&lt;dbl&gt;</th><th scope=col>&lt;dbl&gt;</th><th scope=col>&lt;dbl&gt;</th><th scope=col>&lt;dbl&gt;</th><th scope=col>&lt;dbl&gt;</th><th scope=col>&lt;dbl&gt;</th><th scope=col>&lt;dbl&gt;</th></tr>\n",
              "</thead>\n",
              "<tbody>\n",
              "\t<tr><th scope=row>exp2mi.null</th><td>3</td><td>-156.3852</td><td>-149.3151</td><td>81.19260</td><td>-162.3852</td><td>        NA</td><td>NA</td><td>          NA</td></tr>\n",
              "\t<tr><th scope=row>exp2mi.condition</th><td>4</td><td>-155.6828</td><td>-146.2560</td><td>81.84142</td><td>-163.6828</td><td> 1.2976382</td><td> 1</td><td>2.546451e-01</td></tr>\n",
              "\t<tr><th scope=row>exp2mi.kind_ent</th><td>5</td><td>-173.7939</td><td>-162.0104</td><td>91.89697</td><td>-183.7939</td><td>20.1111017</td><td> 1</td><td>7.307130e-06</td></tr>\n",
              "\t<tr><th scope=row>exp2mi.interaction</th><td>6</td><td>-172.4059</td><td>-158.2656</td><td>92.20293</td><td>-184.4059</td><td> 0.6119168</td><td> 1</td><td>4.340670e-01</td></tr>\n",
              "</tbody>\n",
              "</table>\n"
            ]
          },
          "metadata": {}
        },
        {
          "output_type": "display_data",
          "data": {
            "text/plain": [
              "                           Estimate   Std. Error df      t value   Pr(>|t|)    \n",
              "(Intercept)                0.02391378 0.01420939 50.8163 1.6829560 9.851868e-02\n",
              "condition2                 0.02034504 0.02841878 50.8163 0.7159013 4.773293e-01\n",
              "kind_entmi.noun            0.05785793 0.01144813 37.0000 5.0539180 1.193974e-05\n",
              "condition2:kind_entmi.noun 0.01751400 0.02289627 37.0000 0.7649279 4.491661e-01"
            ],
            "text/latex": "A matrix: 4 × 5 of type dbl\n\\begin{tabular}{r|lllll}\n  & Estimate & Std. Error & df & t value & Pr(>\\textbar{}t\\textbar{})\\\\\n\\hline\n\t(Intercept) & 0.02391378 & 0.01420939 & 50.8163 & 1.6829560 & 9.851868e-02\\\\\n\tcondition2 & 0.02034504 & 0.02841878 & 50.8163 & 0.7159013 & 4.773293e-01\\\\\n\tkind\\_entmi.noun & 0.05785793 & 0.01144813 & 37.0000 & 5.0539180 & 1.193974e-05\\\\\n\tcondition2:kind\\_entmi.noun & 0.01751400 & 0.02289627 & 37.0000 & 0.7649279 & 4.491661e-01\\\\\n\\end{tabular}\n",
            "text/markdown": "\nA matrix: 4 × 5 of type dbl\n\n| <!--/--> | Estimate | Std. Error | df | t value | Pr(&gt;|t|) |\n|---|---|---|---|---|---|\n| (Intercept) | 0.02391378 | 0.01420939 | 50.8163 | 1.6829560 | 9.851868e-02 |\n| condition2 | 0.02034504 | 0.02841878 | 50.8163 | 0.7159013 | 4.773293e-01 |\n| kind_entmi.noun | 0.05785793 | 0.01144813 | 37.0000 | 5.0539180 | 1.193974e-05 |\n| condition2:kind_entmi.noun | 0.01751400 | 0.02289627 | 37.0000 | 0.7649279 | 4.491661e-01 |\n\n",
            "text/html": [
              "<table class=\"dataframe\">\n",
              "<caption>A matrix: 4 × 5 of type dbl</caption>\n",
              "<thead>\n",
              "\t<tr><th></th><th scope=col>Estimate</th><th scope=col>Std. Error</th><th scope=col>df</th><th scope=col>t value</th><th scope=col>Pr(&gt;|t|)</th></tr>\n",
              "</thead>\n",
              "<tbody>\n",
              "\t<tr><th scope=row>(Intercept)</th><td>0.02391378</td><td>0.01420939</td><td>50.8163</td><td>1.6829560</td><td>9.851868e-02</td></tr>\n",
              "\t<tr><th scope=row>condition2</th><td>0.02034504</td><td>0.02841878</td><td>50.8163</td><td>0.7159013</td><td>4.773293e-01</td></tr>\n",
              "\t<tr><th scope=row>kind_entmi.noun</th><td>0.05785793</td><td>0.01144813</td><td>37.0000</td><td>5.0539180</td><td>1.193974e-05</td></tr>\n",
              "\t<tr><th scope=row>condition2:kind_entmi.noun</th><td>0.01751400</td><td>0.02289627</td><td>37.0000</td><td>0.7649279</td><td>4.491661e-01</td></tr>\n",
              "</tbody>\n",
              "</table>\n"
            ]
          },
          "metadata": {}
        }
      ]
    }
  ]
}